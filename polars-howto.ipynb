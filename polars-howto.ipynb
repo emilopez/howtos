{
 "cells": [
  {
   "cell_type": "markdown",
   "id": "4784eaa3-5709-4082-b8f8-197f7134b0c2",
   "metadata": {},
   "source": [
    "# Howto Polars\n",
    "- Venis de **Pandas** y querés aprender a usar **Polars**\n",
    "- La diferencia mas importante:\n",
    "   - Polars establece operaciones que recién son ejecutadas cuando tienen un contexto (algo que en **Pandas** no existe).\n",
    "   - Por tanto, uno opera con columnas genéricas de ningún dataframe (`pl.col`) en particular\n",
    "   - Luego, cuando se les da contexto, es decir, se las vincula con un dataframe concreto, ahí se ejecutan y toman sentido ([Ver ejemplo de la documentación oficial](https://docs.pola.rs/user-guide/concepts/expressions-and-contexts/#expressions))."
   ]
  },
  {
   "cell_type": "code",
   "execution_count": 1,
   "id": "82e05639-a67a-4e6d-bd61-ad0786b70ae0",
   "metadata": {},
   "outputs": [],
   "source": [
    "import polars as pl\n",
    "import pandas as pd"
   ]
  },
  {
   "cell_type": "code",
   "execution_count": 2,
   "id": "4aef6634-276b-462b-b70c-03ccd7f973c3",
   "metadata": {},
   "outputs": [
    {
     "data": {
      "text/plain": [
       "'1.10.0'"
      ]
     },
     "execution_count": 2,
     "metadata": {},
     "output_type": "execute_result"
    }
   ],
   "source": [
    "pl.__version__"
   ]
  },
  {
   "cell_type": "code",
   "execution_count": 3,
   "id": "7d4115af-7e55-46b7-ae16-0e26e9f28dab",
   "metadata": {},
   "outputs": [
    {
     "data": {
      "text/plain": [
       "'2.2.3'"
      ]
     },
     "execution_count": 3,
     "metadata": {},
     "output_type": "execute_result"
    }
   ],
   "source": [
    "pd.__version__"
   ]
  },
  {
   "cell_type": "markdown",
   "id": "6ba2c0c0-309a-48fa-8eae-63cb2587c1dd",
   "metadata": {},
   "source": [
    "## Lectura de CSV  "
   ]
  },
  {
   "cell_type": "code",
   "execution_count": 4,
   "id": "4db7c16e-f502-46d6-9432-38660d7435d6",
   "metadata": {},
   "outputs": [
    {
     "data": {
      "text/html": [
       "<div>\n",
       "<style scoped>\n",
       "    .dataframe tbody tr th:only-of-type {\n",
       "        vertical-align: middle;\n",
       "    }\n",
       "\n",
       "    .dataframe tbody tr th {\n",
       "        vertical-align: top;\n",
       "    }\n",
       "\n",
       "    .dataframe thead th {\n",
       "        text-align: right;\n",
       "    }\n",
       "</style>\n",
       "<table border=\"1\" class=\"dataframe\">\n",
       "  <thead>\n",
       "    <tr style=\"text-align: right;\">\n",
       "      <th></th>\n",
       "      <th>datetime</th>\n",
       "      <th>timelinux</th>\n",
       "      <th>s1</th>\n",
       "    </tr>\n",
       "  </thead>\n",
       "  <tbody>\n",
       "    <tr>\n",
       "      <th>0</th>\n",
       "      <td>2022-11-17 17:04:39</td>\n",
       "      <td>1.668705</td>\n",
       "      <td>104.0</td>\n",
       "    </tr>\n",
       "    <tr>\n",
       "      <th>1</th>\n",
       "      <td>2022-11-17 17:34:37</td>\n",
       "      <td>1.668706</td>\n",
       "      <td>107.0</td>\n",
       "    </tr>\n",
       "    <tr>\n",
       "      <th>2</th>\n",
       "      <td>2022-11-17 18:04:38</td>\n",
       "      <td>1.668708</td>\n",
       "      <td>3.0</td>\n",
       "    </tr>\n",
       "    <tr>\n",
       "      <th>3</th>\n",
       "      <td>2022-11-17 18:34:38</td>\n",
       "      <td>1.668710</td>\n",
       "      <td>3.0</td>\n",
       "    </tr>\n",
       "    <tr>\n",
       "      <th>4</th>\n",
       "      <td>2022-11-17 19:04:37</td>\n",
       "      <td>1.668712</td>\n",
       "      <td>2.0</td>\n",
       "    </tr>\n",
       "  </tbody>\n",
       "</table>\n",
       "</div>"
      ],
      "text/plain": [
       "              datetime  timelinux     s1\n",
       "0  2022-11-17 17:04:39   1.668705  104.0\n",
       "1  2022-11-17 17:34:37   1.668706  107.0\n",
       "2  2022-11-17 18:04:38   1.668708    3.0\n",
       "3  2022-11-17 18:34:38   1.668710    3.0\n",
       "4  2022-11-17 19:04:37   1.668712    2.0"
      ]
     },
     "execution_count": 4,
     "metadata": {},
     "output_type": "execute_result"
    }
   ],
   "source": [
    "df_pd = pd.read_csv(\"data/dataset_01/eqB4-s1-ciclo1.csv\")\n",
    "df_pd.head()"
   ]
  },
  {
   "cell_type": "code",
   "execution_count": 5,
   "id": "ea53831d-c1f8-4666-a578-a13e5a030565",
   "metadata": {},
   "outputs": [
    {
     "name": "stdout",
     "output_type": "stream",
     "text": [
      "<class 'pandas.core.frame.DataFrame'>\n",
      "RangeIndex: 1130 entries, 0 to 1129\n",
      "Data columns (total 3 columns):\n",
      " #   Column     Non-Null Count  Dtype  \n",
      "---  ------     --------------  -----  \n",
      " 0   datetime   1130 non-null   object \n",
      " 1   timelinux  1130 non-null   float64\n",
      " 2   s1         1130 non-null   float64\n",
      "dtypes: float64(2), object(1)\n",
      "memory usage: 26.6+ KB\n"
     ]
    }
   ],
   "source": [
    "# En pandas con .info() conocemos el tipo de dato de cada columna \n",
    "df_pd.info()"
   ]
  },
  {
   "cell_type": "code",
   "execution_count": 6,
   "id": "6237e059-142c-486b-bd74-986a50b9de91",
   "metadata": {},
   "outputs": [
    {
     "data": {
      "text/html": [
       "<div><style>\n",
       ".dataframe > thead > tr,\n",
       ".dataframe > tbody > tr {\n",
       "  text-align: right;\n",
       "  white-space: pre-wrap;\n",
       "}\n",
       "</style>\n",
       "<small>shape: (5, 3)</small><table border=\"1\" class=\"dataframe\"><thead><tr><th>datetime</th><th>timelinux</th><th>s1</th></tr><tr><td>str</td><td>f64</td><td>f64</td></tr></thead><tbody><tr><td>&quot;2022-11-17 17:04:39&quot;</td><td>1.668705</td><td>104.0</td></tr><tr><td>&quot;2022-11-17 17:34:37&quot;</td><td>1.668706</td><td>107.0</td></tr><tr><td>&quot;2022-11-17 18:04:38&quot;</td><td>1.668708</td><td>3.0</td></tr><tr><td>&quot;2022-11-17 18:34:38&quot;</td><td>1.66871</td><td>3.0</td></tr><tr><td>&quot;2022-11-17 19:04:37&quot;</td><td>1.668712</td><td>2.0</td></tr></tbody></table></div>"
      ],
      "text/plain": [
       "shape: (5, 3)\n",
       "┌─────────────────────┬───────────┬───────┐\n",
       "│ datetime            ┆ timelinux ┆ s1    │\n",
       "│ ---                 ┆ ---       ┆ ---   │\n",
       "│ str                 ┆ f64       ┆ f64   │\n",
       "╞═════════════════════╪═══════════╪═══════╡\n",
       "│ 2022-11-17 17:04:39 ┆ 1.668705  ┆ 104.0 │\n",
       "│ 2022-11-17 17:34:37 ┆ 1.668706  ┆ 107.0 │\n",
       "│ 2022-11-17 18:04:38 ┆ 1.668708  ┆ 3.0   │\n",
       "│ 2022-11-17 18:34:38 ┆ 1.66871   ┆ 3.0   │\n",
       "│ 2022-11-17 19:04:37 ┆ 1.668712  ┆ 2.0   │\n",
       "└─────────────────────┴───────────┴───────┘"
      ]
     },
     "execution_count": 6,
     "metadata": {},
     "output_type": "execute_result"
    }
   ],
   "source": [
    "df_pl = pl.read_csv(\"data/dataset_01/eqB4-s1-ciclo1.csv\")\n",
    "# En polars ya nos informa el tipo de dato de cada columna\n",
    "df_pl.head()"
   ]
  },
  {
   "cell_type": "code",
   "execution_count": 7,
   "id": "62505537-e1ae-408c-be6c-a10e9ba48271",
   "metadata": {},
   "outputs": [
    {
     "data": {
      "text/plain": [
       "Schema([('datetime', String), ('timelinux', Float64), ('s1', Float64)])"
      ]
     },
     "execution_count": 7,
     "metadata": {},
     "output_type": "execute_result"
    }
   ],
   "source": [
    "# Polars con .schema nos informacada columna el tipo de dato asociado\n",
    "df_pl.schema"
   ]
  },
  {
   "cell_type": "markdown",
   "id": "732b2e58-e011-45f6-8bcf-73adce9362c2",
   "metadata": {},
   "source": [
    "### Columna como datetime"
   ]
  },
  {
   "cell_type": "markdown",
   "id": "dd26be58-d4e1-4cd6-9dc3-edf7631687a6",
   "metadata": {},
   "source": [
    "- **Pandas** indica que las columnas datetime con ̣`parse_dates`"
   ]
  },
  {
   "cell_type": "code",
   "execution_count": 9,
   "id": "0cc6feca-a397-4515-957c-4920996c518b",
   "metadata": {},
   "outputs": [
    {
     "name": "stdout",
     "output_type": "stream",
     "text": [
      "<class 'pandas.core.frame.DataFrame'>\n",
      "RangeIndex: 1130 entries, 0 to 1129\n",
      "Data columns (total 3 columns):\n",
      " #   Column     Non-Null Count  Dtype         \n",
      "---  ------     --------------  -----         \n",
      " 0   datetime   1130 non-null   datetime64[ns]\n",
      " 1   timelinux  1130 non-null   float64       \n",
      " 2   s1         1130 non-null   float64       \n",
      "dtypes: datetime64[ns](1), float64(2)\n",
      "memory usage: 26.6 KB\n"
     ]
    }
   ],
   "source": [
    "df_pd = pd.read_csv(\"data/dataset_01/eqB4-s1-ciclo1.csv\", parse_dates = [\"datetime\"])\n",
    "df_pd.info()"
   ]
  },
  {
   "cell_type": "markdown",
   "id": "703acb20-1820-40f0-a5ca-6c6bd4e482a4",
   "metadata": {},
   "source": [
    "- **Polars** tiene `try_parse_dates` que se da cuenta del formato y ya lo interpreta correctamente, fijate: "
   ]
  },
  {
   "cell_type": "code",
   "execution_count": 10,
   "id": "3a4c131e-f22d-404c-a7ae-fa3cf1380f9a",
   "metadata": {},
   "outputs": [
    {
     "data": {
      "text/html": [
       "<div><style>\n",
       ".dataframe > thead > tr,\n",
       ".dataframe > tbody > tr {\n",
       "  text-align: right;\n",
       "  white-space: pre-wrap;\n",
       "}\n",
       "</style>\n",
       "<small>shape: (5, 3)</small><table border=\"1\" class=\"dataframe\"><thead><tr><th>datetime</th><th>timelinux</th><th>s1</th></tr><tr><td>datetime[μs]</td><td>f64</td><td>f64</td></tr></thead><tbody><tr><td>2022-11-17 17:04:39</td><td>1.668705</td><td>104.0</td></tr><tr><td>2022-11-17 17:34:37</td><td>1.668706</td><td>107.0</td></tr><tr><td>2022-11-17 18:04:38</td><td>1.668708</td><td>3.0</td></tr><tr><td>2022-11-17 18:34:38</td><td>1.66871</td><td>3.0</td></tr><tr><td>2022-11-17 19:04:37</td><td>1.668712</td><td>2.0</td></tr></tbody></table></div>"
      ],
      "text/plain": [
       "shape: (5, 3)\n",
       "┌─────────────────────┬───────────┬───────┐\n",
       "│ datetime            ┆ timelinux ┆ s1    │\n",
       "│ ---                 ┆ ---       ┆ ---   │\n",
       "│ datetime[μs]        ┆ f64       ┆ f64   │\n",
       "╞═════════════════════╪═══════════╪═══════╡\n",
       "│ 2022-11-17 17:04:39 ┆ 1.668705  ┆ 104.0 │\n",
       "│ 2022-11-17 17:34:37 ┆ 1.668706  ┆ 107.0 │\n",
       "│ 2022-11-17 18:04:38 ┆ 1.668708  ┆ 3.0   │\n",
       "│ 2022-11-17 18:34:38 ┆ 1.66871   ┆ 3.0   │\n",
       "│ 2022-11-17 19:04:37 ┆ 1.668712  ┆ 2.0   │\n",
       "└─────────────────────┴───────────┴───────┘"
      ]
     },
     "execution_count": 10,
     "metadata": {},
     "output_type": "execute_result"
    }
   ],
   "source": [
    "df_pl = pl.read_csv(\"data/dataset_01/eqB4-s1-ciclo1.csv\", try_parse_dates=True)\n",
    "df_pl.head()"
   ]
  },
  {
   "cell_type": "markdown",
   "id": "d3d6998e-ead3-4e08-9e3a-1405934f3683",
   "metadata": {},
   "source": [
    "- Sino en **Polars** se lo indica manualmente con `schema_overrides` (antes era `dtypes`) así (ojo, tiene que ser compatible, sino se rompe):"
   ]
  },
  {
   "cell_type": "code",
   "execution_count": 32,
   "id": "c475a7ae-1fe2-4832-8104-bbd691892d2c",
   "metadata": {},
   "outputs": [
    {
     "data": {
      "text/html": [
       "<div><style>\n",
       ".dataframe > thead > tr,\n",
       ".dataframe > tbody > tr {\n",
       "  text-align: right;\n",
       "  white-space: pre-wrap;\n",
       "}\n",
       "</style>\n",
       "<small>shape: (5, 3)</small><table border=\"1\" class=\"dataframe\"><thead><tr><th>datetime</th><th>timelinux</th><th>s1</th></tr><tr><td>datetime[μs]</td><td>f64</td><td>f64</td></tr></thead><tbody><tr><td>2022-11-17 17:04:39</td><td>1.668705</td><td>104.0</td></tr><tr><td>2022-11-17 17:34:37</td><td>1.668706</td><td>107.0</td></tr><tr><td>2022-11-17 18:04:38</td><td>1.668708</td><td>3.0</td></tr><tr><td>2022-11-17 18:34:38</td><td>1.66871</td><td>3.0</td></tr><tr><td>2022-11-17 19:04:37</td><td>1.668712</td><td>2.0</td></tr></tbody></table></div>"
      ],
      "text/plain": [
       "shape: (5, 3)\n",
       "┌─────────────────────┬───────────┬───────┐\n",
       "│ datetime            ┆ timelinux ┆ s1    │\n",
       "│ ---                 ┆ ---       ┆ ---   │\n",
       "│ datetime[μs]        ┆ f64       ┆ f64   │\n",
       "╞═════════════════════╪═══════════╪═══════╡\n",
       "│ 2022-11-17 17:04:39 ┆ 1.668705  ┆ 104.0 │\n",
       "│ 2022-11-17 17:34:37 ┆ 1.668706  ┆ 107.0 │\n",
       "│ 2022-11-17 18:04:38 ┆ 1.668708  ┆ 3.0   │\n",
       "│ 2022-11-17 18:34:38 ┆ 1.66871   ┆ 3.0   │\n",
       "│ 2022-11-17 19:04:37 ┆ 1.668712  ┆ 2.0   │\n",
       "└─────────────────────┴───────────┴───────┘"
      ]
     },
     "execution_count": 32,
     "metadata": {},
     "output_type": "execute_result"
    }
   ],
   "source": [
    "df_pl = pl.read_csv(\"data/dataset_01/eqB4-s1-ciclo1.csv\", \n",
    "                     schema_overrides={\"datetime\": pl.Datetime})\n",
    "df_pl.head()"
   ]
  },
  {
   "cell_type": "markdown",
   "id": "28e69545-bf43-4448-a100-c6f1c4129f13",
   "metadata": {},
   "source": [
    "## Seleccionar columnas \n",
    "- En **Pandas** seleccionar una columna te retorna una Serie, en **Polars**? también.\n",
    "- En **Polars** también se puede usar el operador corchetes aunque el método .select() es preferido porque permite transformaciones complejas, encadenamiento, etc."
   ]
  },
  {
   "cell_type": "code",
   "execution_count": 33,
   "id": "1a39db66-560a-4f1f-8afd-04de3c8d79a8",
   "metadata": {},
   "outputs": [
    {
     "data": {
      "text/plain": [
       "pandas.core.series.Series"
      ]
     },
     "execution_count": 33,
     "metadata": {},
     "output_type": "execute_result"
    }
   ],
   "source": [
    "type(df_pd[\"datetime\"])"
   ]
  },
  {
   "cell_type": "code",
   "execution_count": 34,
   "id": "870e68e9-275c-4956-bd8c-183f17dd81e3",
   "metadata": {},
   "outputs": [
    {
     "data": {
      "text/plain": [
       "polars.series.series.Series"
      ]
     },
     "execution_count": 34,
     "metadata": {},
     "output_type": "execute_result"
    }
   ],
   "source": [
    "type(df_pl[\"datetime\"])"
   ]
  },
  {
   "cell_type": "markdown",
   "id": "8a40a4a7-c187-4629-8deb-5a127d5c8fb3",
   "metadata": {},
   "source": [
    "- Seleccionamos varias columnas: igual que **Pandas**"
   ]
  },
  {
   "cell_type": "code",
   "execution_count": 35,
   "id": "7c56ef3a-b096-4725-83db-97b9c10fbad4",
   "metadata": {},
   "outputs": [
    {
     "data": {
      "text/html": [
       "<div><style>\n",
       ".dataframe > thead > tr,\n",
       ".dataframe > tbody > tr {\n",
       "  text-align: right;\n",
       "  white-space: pre-wrap;\n",
       "}\n",
       "</style>\n",
       "<small>shape: (3, 2)</small><table border=\"1\" class=\"dataframe\"><thead><tr><th>datetime</th><th>s1</th></tr><tr><td>datetime[μs]</td><td>f64</td></tr></thead><tbody><tr><td>2022-11-17 17:04:39</td><td>104.0</td></tr><tr><td>2022-11-17 17:34:37</td><td>107.0</td></tr><tr><td>2022-11-17 18:04:38</td><td>3.0</td></tr></tbody></table></div>"
      ],
      "text/plain": [
       "shape: (3, 2)\n",
       "┌─────────────────────┬───────┐\n",
       "│ datetime            ┆ s1    │\n",
       "│ ---                 ┆ ---   │\n",
       "│ datetime[μs]        ┆ f64   │\n",
       "╞═════════════════════╪═══════╡\n",
       "│ 2022-11-17 17:04:39 ┆ 104.0 │\n",
       "│ 2022-11-17 17:34:37 ┆ 107.0 │\n",
       "│ 2022-11-17 18:04:38 ┆ 3.0   │\n",
       "└─────────────────────┴───────┘"
      ]
     },
     "execution_count": 35,
     "metadata": {},
     "output_type": "execute_result"
    }
   ],
   "source": [
    "df_pl[[\"datetime\", \"s1\"]].head(3)"
   ]
  },
  {
   "cell_type": "markdown",
   "id": "9a9bc7be-9ad7-499e-b9cb-11b4ac713ba5",
   "metadata": {},
   "source": [
    "- Veamos con `.select()`"
   ]
  },
  {
   "cell_type": "code",
   "execution_count": 36,
   "id": "de2ca1a2-ca1c-4dbd-9176-6faf9e7b123d",
   "metadata": {},
   "outputs": [
    {
     "data": {
      "text/html": [
       "<div><style>\n",
       ".dataframe > thead > tr,\n",
       ".dataframe > tbody > tr {\n",
       "  text-align: right;\n",
       "  white-space: pre-wrap;\n",
       "}\n",
       "</style>\n",
       "<small>shape: (3, 2)</small><table border=\"1\" class=\"dataframe\"><thead><tr><th>datetime</th><th>s1</th></tr><tr><td>datetime[μs]</td><td>f64</td></tr></thead><tbody><tr><td>2022-11-17 17:04:39</td><td>104.0</td></tr><tr><td>2022-11-17 17:34:37</td><td>107.0</td></tr><tr><td>2022-11-17 18:04:38</td><td>3.0</td></tr></tbody></table></div>"
      ],
      "text/plain": [
       "shape: (3, 2)\n",
       "┌─────────────────────┬───────┐\n",
       "│ datetime            ┆ s1    │\n",
       "│ ---                 ┆ ---   │\n",
       "│ datetime[μs]        ┆ f64   │\n",
       "╞═════════════════════╪═══════╡\n",
       "│ 2022-11-17 17:04:39 ┆ 104.0 │\n",
       "│ 2022-11-17 17:34:37 ┆ 107.0 │\n",
       "│ 2022-11-17 18:04:38 ┆ 3.0   │\n",
       "└─────────────────────┴───────┘"
      ]
     },
     "execution_count": 36,
     "metadata": {},
     "output_type": "execute_result"
    }
   ],
   "source": [
    "df_pl.select(['datetime', 's1']).head(3)"
   ]
  },
  {
   "cell_type": "markdown",
   "id": "99deafbd-acf5-48c1-836d-0e9197b4c6b5",
   "metadata": {},
   "source": [
    "- También podemos usar argumentos posicionales con `pl.col()`:"
   ]
  },
  {
   "cell_type": "code",
   "execution_count": 37,
   "id": "3687507b-5dd4-4cba-81c7-6d1f06093d2a",
   "metadata": {},
   "outputs": [
    {
     "data": {
      "text/html": [
       "<div><style>\n",
       ".dataframe > thead > tr,\n",
       ".dataframe > tbody > tr {\n",
       "  text-align: right;\n",
       "  white-space: pre-wrap;\n",
       "}\n",
       "</style>\n",
       "<small>shape: (3, 2)</small><table border=\"1\" class=\"dataframe\"><thead><tr><th>datetime</th><th>s1</th></tr><tr><td>datetime[μs]</td><td>f64</td></tr></thead><tbody><tr><td>2022-11-17 17:04:39</td><td>1104.0</td></tr><tr><td>2022-11-17 17:34:37</td><td>1107.0</td></tr><tr><td>2022-11-17 18:04:38</td><td>1003.0</td></tr></tbody></table></div>"
      ],
      "text/plain": [
       "shape: (3, 2)\n",
       "┌─────────────────────┬────────┐\n",
       "│ datetime            ┆ s1     │\n",
       "│ ---                 ┆ ---    │\n",
       "│ datetime[μs]        ┆ f64    │\n",
       "╞═════════════════════╪════════╡\n",
       "│ 2022-11-17 17:04:39 ┆ 1104.0 │\n",
       "│ 2022-11-17 17:34:37 ┆ 1107.0 │\n",
       "│ 2022-11-17 18:04:38 ┆ 1003.0 │\n",
       "└─────────────────────┴────────┘"
      ]
     },
     "execution_count": 37,
     "metadata": {},
     "output_type": "execute_result"
    }
   ],
   "source": [
    "df_pl.select(pl.col(\"datetime\"), pl.col(\"s1\") + 1000).head(3)"
   ]
  },
  {
   "cell_type": "markdown",
   "id": "4cb307b2-1706-491c-a75f-73da0023b971",
   "metadata": {},
   "source": [
    "- Vamos con algo un poco mas sofisticado, una columna que asigne un valor tope a aquellos que superen un umbral y -3.14 al resto, y denominemos a esta columna clamp:"
   ]
  },
  {
   "cell_type": "code",
   "execution_count": 38,
   "id": "b939ecce-8364-4a3c-830d-e728a35b6429",
   "metadata": {},
   "outputs": [
    {
     "data": {
      "text/html": [
       "<div><style>\n",
       ".dataframe > thead > tr,\n",
       ".dataframe > tbody > tr {\n",
       "  text-align: right;\n",
       "  white-space: pre-wrap;\n",
       "}\n",
       "</style>\n",
       "<small>shape: (1_130, 1)</small><table border=\"1\" class=\"dataframe\"><thead><tr><th>clamp</th></tr><tr><td>f64</td></tr></thead><tbody><tr><td>100.0</td></tr><tr><td>100.0</td></tr><tr><td>-3.14</td></tr><tr><td>-3.14</td></tr><tr><td>-3.14</td></tr><tr><td>&hellip;</td></tr><tr><td>100.0</td></tr><tr><td>-3.14</td></tr><tr><td>-3.14</td></tr><tr><td>-3.14</td></tr><tr><td>-3.14</td></tr></tbody></table></div>"
      ],
      "text/plain": [
       "shape: (1_130, 1)\n",
       "┌───────┐\n",
       "│ clamp │\n",
       "│ ---   │\n",
       "│ f64   │\n",
       "╞═══════╡\n",
       "│ 100.0 │\n",
       "│ 100.0 │\n",
       "│ -3.14 │\n",
       "│ -3.14 │\n",
       "│ -3.14 │\n",
       "│ …     │\n",
       "│ 100.0 │\n",
       "│ -3.14 │\n",
       "│ -3.14 │\n",
       "│ -3.14 │\n",
       "│ -3.14 │\n",
       "└───────┘"
      ]
     },
     "execution_count": 38,
     "metadata": {},
     "output_type": "execute_result"
    }
   ],
   "source": [
    "df_pl.select(\n",
    "    clamp = pl.when(pl.col(\"s1\")>100).then(100).otherwise(-3.14)\n",
    ")"
   ]
  },
  {
   "cell_type": "markdown",
   "id": "dc3439ed-6f63-402a-9c11-3456c2259cea",
   "metadata": {},
   "source": [
    "Y si al resultado de esa operación la quiero como una nueva columna en mi dataframe?"
   ]
  },
  {
   "cell_type": "code",
   "execution_count": 41,
   "id": "a8548bdc-76dd-47af-b661-61aa63373999",
   "metadata": {},
   "outputs": [],
   "source": [
    "df_pl = df_pl.with_columns(\n",
    "    pl.when(pl.col(\"s1\")>100)\n",
    "    .then(100)\n",
    "    .otherwise(-3.14)\n",
    "    .alias(\"clamp\") \n",
    ")"
   ]
  },
  {
   "cell_type": "code",
   "execution_count": 42,
   "id": "6353cae9-b571-474a-8287-4883515cd6f0",
   "metadata": {},
   "outputs": [
    {
     "data": {
      "text/html": [
       "<div><style>\n",
       ".dataframe > thead > tr,\n",
       ".dataframe > tbody > tr {\n",
       "  text-align: right;\n",
       "  white-space: pre-wrap;\n",
       "}\n",
       "</style>\n",
       "<small>shape: (1_130, 4)</small><table border=\"1\" class=\"dataframe\"><thead><tr><th>datetime</th><th>timelinux</th><th>s1</th><th>clamp</th></tr><tr><td>datetime[μs]</td><td>f64</td><td>f64</td><td>f64</td></tr></thead><tbody><tr><td>2022-11-17 17:04:39</td><td>1.668705</td><td>104.0</td><td>100.0</td></tr><tr><td>2022-11-17 17:34:37</td><td>1.668706</td><td>107.0</td><td>100.0</td></tr><tr><td>2022-11-17 18:04:38</td><td>1.668708</td><td>3.0</td><td>-3.14</td></tr><tr><td>2022-11-17 18:34:38</td><td>1.66871</td><td>3.0</td><td>-3.14</td></tr><tr><td>2022-11-17 19:04:37</td><td>1.668712</td><td>2.0</td><td>-3.14</td></tr><tr><td>&hellip;</td><td>&hellip;</td><td>&hellip;</td><td>&hellip;</td></tr><tr><td>2022-12-11 04:34:25</td><td>1.670733</td><td>103.0</td><td>100.0</td></tr><tr><td>2022-12-11 05:04:25</td><td>1.670735</td><td>91.0</td><td>-3.14</td></tr><tr><td>2022-12-11 05:34:25</td><td>1.670737</td><td>86.0</td><td>-3.14</td></tr><tr><td>2022-12-11 06:04:24</td><td>1.670739</td><td>78.0</td><td>-3.14</td></tr><tr><td>2022-12-11 07:32:20</td><td>1.670744</td><td>78.0</td><td>-3.14</td></tr></tbody></table></div>"
      ],
      "text/plain": [
       "shape: (1_130, 4)\n",
       "┌─────────────────────┬───────────┬───────┬───────┐\n",
       "│ datetime            ┆ timelinux ┆ s1    ┆ clamp │\n",
       "│ ---                 ┆ ---       ┆ ---   ┆ ---   │\n",
       "│ datetime[μs]        ┆ f64       ┆ f64   ┆ f64   │\n",
       "╞═════════════════════╪═══════════╪═══════╪═══════╡\n",
       "│ 2022-11-17 17:04:39 ┆ 1.668705  ┆ 104.0 ┆ 100.0 │\n",
       "│ 2022-11-17 17:34:37 ┆ 1.668706  ┆ 107.0 ┆ 100.0 │\n",
       "│ 2022-11-17 18:04:38 ┆ 1.668708  ┆ 3.0   ┆ -3.14 │\n",
       "│ 2022-11-17 18:34:38 ┆ 1.66871   ┆ 3.0   ┆ -3.14 │\n",
       "│ 2022-11-17 19:04:37 ┆ 1.668712  ┆ 2.0   ┆ -3.14 │\n",
       "│ …                   ┆ …         ┆ …     ┆ …     │\n",
       "│ 2022-12-11 04:34:25 ┆ 1.670733  ┆ 103.0 ┆ 100.0 │\n",
       "│ 2022-12-11 05:04:25 ┆ 1.670735  ┆ 91.0  ┆ -3.14 │\n",
       "│ 2022-12-11 05:34:25 ┆ 1.670737  ┆ 86.0  ┆ -3.14 │\n",
       "│ 2022-12-11 06:04:24 ┆ 1.670739  ┆ 78.0  ┆ -3.14 │\n",
       "│ 2022-12-11 07:32:20 ┆ 1.670744  ┆ 78.0  ┆ -3.14 │\n",
       "└─────────────────────┴───────────┴───────┴───────┘"
      ]
     },
     "execution_count": 42,
     "metadata": {},
     "output_type": "execute_result"
    }
   ],
   "source": [
    "df_pl"
   ]
  },
  {
   "cell_type": "markdown",
   "id": "895a45bf-db1a-4c65-8a7a-a1fc05bf1c98",
   "metadata": {},
   "source": [
    "Conclusiones apresuradas: \n",
    "- es mejor hacer las cosas al modo **Polars**\n",
    "- el `.select()` es poderoso y nos crea un nuevo dataframe\n",
    "- para agregar columnas a un dataframe existente olvidamos el `.select()`, ahí juega `.with_columns()`"
   ]
  },
  {
   "cell_type": "markdown",
   "id": "6ae32e01-308d-41d5-9516-ccfce5a68049",
   "metadata": {},
   "source": [
    "## No tan distintos\n",
    "\n",
    "### Filtrado\n",
    "\n",
    "Es parecido al **boolean indexing** de pandas solamente que se hace en el contexto de `.filter()` y se aplica a las columnas usando `pd.col(\"col_name\")`"
   ]
  },
  {
   "cell_type": "code",
   "execution_count": 24,
   "id": "e7877bed-02a7-409d-b927-a3aa23c72f00",
   "metadata": {},
   "outputs": [
    {
     "name": "stdout",
     "output_type": "stream",
     "text": [
      "shape: (4, 4)\n",
      "┌──────────┬──────┬──────────────┬──────────┐\n",
      "│ nombre   ┆ edad ┆ ciudad       ┆ dni      │\n",
      "│ ---      ┆ ---  ┆ ---          ┆ ---      │\n",
      "│ str      ┆ i64  ┆ str          ┆ str      │\n",
      "╞══════════╪══════╪══════════════╪══════════╡\n",
      "│ Ana      ┆ 30   ┆ Buenos Aires ┆ null     │\n",
      "│ Pedro    ┆ 25   ┆ Córdoba      ┆ null     │\n",
      "│ María    ┆ 35   ┆ Buenos Aires ┆ null     │\n",
      "│ Emiliano ┆ 43   ┆ Tostado      ┆ 28331969 │\n",
      "└──────────┴──────┴──────────────┴──────────┘\n"
     ]
    }
   ],
   "source": [
    "# Creamos un DataFrame a partir de una lista de diccionarios\n",
    "data = [\n",
    "    {\"nombre\": \"Ana\", \"edad\": 30, \"ciudad\": \"Buenos Aires\"},\n",
    "    {\"nombre\": \"Pedro\", \"edad\": 25, \"ciudad\": \"Córdoba\"},\n",
    "    {\"nombre\": \"María\", \"edad\": 35, \"ciudad\": \"Buenos Aires\"},\n",
    "    {\"nombre\": \"Emiliano\", \"edad\": 43, \"ciudad\": \"Tostado\", \"dni\":\"28331969\"},\n",
    "    \n",
    "]\n",
    "\n",
    "df_pl = pl.DataFrame(data)\n",
    "\n",
    "# Mostramos el DataFrame\n",
    "print(df_pl)"
   ]
  },
  {
   "cell_type": "code",
   "execution_count": 25,
   "id": "bf81c5d6-09b3-41e8-b238-33718341c45a",
   "metadata": {},
   "outputs": [
    {
     "data": {
      "text/html": [
       "<div><style>\n",
       ".dataframe > thead > tr,\n",
       ".dataframe > tbody > tr {\n",
       "  text-align: right;\n",
       "  white-space: pre-wrap;\n",
       "}\n",
       "</style>\n",
       "<small>shape: (2, 4)</small><table border=\"1\" class=\"dataframe\"><thead><tr><th>nombre</th><th>edad</th><th>ciudad</th><th>dni</th></tr><tr><td>str</td><td>i64</td><td>str</td><td>str</td></tr></thead><tbody><tr><td>&quot;Ana&quot;</td><td>30</td><td>&quot;Buenos Aires&quot;</td><td>null</td></tr><tr><td>&quot;María&quot;</td><td>35</td><td>&quot;Buenos Aires&quot;</td><td>null</td></tr></tbody></table></div>"
      ],
      "text/plain": [
       "shape: (2, 4)\n",
       "┌────────┬──────┬──────────────┬──────┐\n",
       "│ nombre ┆ edad ┆ ciudad       ┆ dni  │\n",
       "│ ---    ┆ ---  ┆ ---          ┆ ---  │\n",
       "│ str    ┆ i64  ┆ str          ┆ str  │\n",
       "╞════════╪══════╪══════════════╪══════╡\n",
       "│ Ana    ┆ 30   ┆ Buenos Aires ┆ null │\n",
       "│ María  ┆ 35   ┆ Buenos Aires ┆ null │\n",
       "└────────┴──────┴──────────────┴──────┘"
      ]
     },
     "execution_count": 25,
     "metadata": {},
     "output_type": "execute_result"
    }
   ],
   "source": [
    "# filtramos parecido a lo que serìa el boolean indexing de pandas\n",
    "\n",
    "df_pl_filtrado = df_pl.filter(\n",
    "    (pl.col(\"edad\") >= 30) & (pl.col(\"ciudad\") == \"Buenos Aires\")\n",
    ")\n",
    "\n",
    "df_pl_filtrado"
   ]
  },
  {
   "cell_type": "code",
   "execution_count": 27,
   "id": "9de6cc19-f0aa-4d0b-8344-c7778b7770d4",
   "metadata": {},
   "outputs": [
    {
     "data": {
      "text/html": [
       "<div><style>\n",
       ".dataframe > thead > tr,\n",
       ".dataframe > tbody > tr {\n",
       "  text-align: right;\n",
       "  white-space: pre-wrap;\n",
       "}\n",
       "</style>\n",
       "<small>shape: (1, 4)</small><table border=\"1\" class=\"dataframe\"><thead><tr><th>nombre</th><th>edad</th><th>ciudad</th><th>dni</th></tr><tr><td>str</td><td>i64</td><td>str</td><td>str</td></tr></thead><tbody><tr><td>&quot;Emiliano&quot;</td><td>43</td><td>&quot;Tostado&quot;</td><td>&quot;28331969&quot;</td></tr></tbody></table></div>"
      ],
      "text/plain": [
       "shape: (1, 4)\n",
       "┌──────────┬──────┬─────────┬──────────┐\n",
       "│ nombre   ┆ edad ┆ ciudad  ┆ dni      │\n",
       "│ ---      ┆ ---  ┆ ---     ┆ ---      │\n",
       "│ str      ┆ i64  ┆ str     ┆ str      │\n",
       "╞══════════╪══════╪═════════╪══════════╡\n",
       "│ Emiliano ┆ 43   ┆ Tostado ┆ 28331969 │\n",
       "└──────────┴──────┴─────────┴──────────┘"
      ]
     },
     "execution_count": 27,
     "metadata": {},
     "output_type": "execute_result"
    }
   ],
   "source": [
    "# tenemos metodos sobre las columnas cuando tenemos valores nulos\n",
    "\n",
    "df_pl_filtrado = df_pl.filter(\n",
    "    (pl.col(\"edad\") >= 30) & (~pl.col(\"dni\").is_null())\n",
    ")\n",
    "\n",
    "df_pl_filtrado"
   ]
  },
  {
   "cell_type": "markdown",
   "id": "490608b9-be45-42b6-b5e0-919f33d6cebb",
   "metadata": {},
   "source": [
    "## Iteración por filas\n",
    "La prueba de que no es conveniente iterar por filas está en lo incómodo que es, tanto para **Pandas** como para **Polars**. Perdemos la capacidad vectorizada y de paralelización. Sin embargo a veces lo necesitamos. "
   ]
  },
  {
   "cell_type": "code",
   "execution_count": 9,
   "id": "e300aaa4-aade-4898-90d4-e24914c6cc07",
   "metadata": {},
   "outputs": [
    {
     "name": "stdout",
     "output_type": "stream",
     "text": [
      "Ana\n",
      "Pedro\n",
      "María\n",
      "Emiliano\n"
     ]
    }
   ],
   "source": [
    "for row in df.iter_rows(named=True):\n",
    "    print(row['nombre'])"
   ]
  },
  {
   "cell_type": "markdown",
   "id": "6a1d5746-e6df-494c-9041-19db7bebe13f",
   "metadata": {},
   "source": [
    "### Problema 1: procesamiento externo\n",
    "- Una columna con path a diferentes archivos txt\n",
    "- a cada archivo se lo procesa usando una funión externa\n",
    "- el retorno de la función en un valor que guardamos en una lista y luego será una nueva columna del df"
   ]
  },
  {
   "cell_type": "code",
   "execution_count": 44,
   "id": "15bbb649-3e6f-4697-8fe3-10c044d6beba",
   "metadata": {},
   "outputs": [],
   "source": [
    "import subprocess\n",
    "# funcion externa\n",
    "def procesar_archivo(path: str) -> int:  \n",
    "    \"\"\"cuenta cantidad de lineas de un archivo usando wc\"\"\"\n",
    "    command = [\"wc\", \"-l\", path]\n",
    "    resultado = subprocess.run(command, capture_output=True, text=True)\n",
    "    num_lineas = int(resultado.stdout.split()[0])\n",
    "\n",
    "    return num_lineas"
   ]
  },
  {
   "cell_type": "code",
   "execution_count": null,
   "id": "7d9d2970-f95e-441a-8050-5337a220c238",
   "metadata": {},
   "outputs": [],
   "source": [
    "# Crear un DataFrame de ejemplo\n",
    "data = {'autor': ['charly', 'charly', 'vilca', 'flaco', 'fontanarrosa'], \n",
    "        'path': ['data/dataset_03/cancion_alicia.txt', \n",
    "                 'data/dataset_03/desarma_y_sangra.txt', \n",
    "                 'data/dataset_03/nada_tengo.txt', \n",
    "                 'data/dataset_03/quedandote_o_yendote.txt', \n",
    "                 'data/dataset_03/y_te_digo_mas.txt'], }\n",
    "df = pl.DataFrame(data)\n",
    "df"
   ]
  },
  {
   "cell_type": "markdown",
   "id": "28780aae-b8b3-46ed-add2-892ef75b2549",
   "metadata": {},
   "source": [
    "- **Enfoque iterativo**"
   ]
  },
  {
   "cell_type": "code",
   "execution_count": 68,
   "id": "cd0390a0-d2be-4da2-abd3-f53ca31e440a",
   "metadata": {},
   "outputs": [
    {
     "name": "stdout",
     "output_type": "stream",
     "text": [
      "CPU times: user 0 ns, sys: 3.71 ms, total: 3.71 ms\n",
      "Wall time: 6.73 ms\n"
     ]
    },
    {
     "data": {
      "text/html": [
       "<div><style>\n",
       ".dataframe > thead > tr,\n",
       ".dataframe > tbody > tr {\n",
       "  text-align: right;\n",
       "  white-space: pre-wrap;\n",
       "}\n",
       "</style>\n",
       "<small>shape: (5, 4)</small><table border=\"1\" class=\"dataframe\"><thead><tr><th>autor</th><th>path</th><th>cant_lineas</th><th>qty_lineas</th></tr><tr><td>str</td><td>str</td><td>i32</td><td>i64</td></tr></thead><tbody><tr><td>&quot;charly&quot;</td><td>&quot;data/dataset_03/cancion_alicia…</td><td>32</td><td>32</td></tr><tr><td>&quot;charly&quot;</td><td>&quot;data/dataset_03/desarma_y_sang…</td><td>23</td><td>23</td></tr><tr><td>&quot;vilca&quot;</td><td>&quot;data/dataset_03/nada_tengo.txt&quot;</td><td>34</td><td>34</td></tr><tr><td>&quot;flaco&quot;</td><td>&quot;data/dataset_03/quedandote_o_y…</td><td>27</td><td>27</td></tr><tr><td>&quot;fontanarrosa&quot;</td><td>&quot;data/dataset_03/y_te_digo_mas.…</td><td>79</td><td>79</td></tr></tbody></table></div>"
      ],
      "text/plain": [
       "shape: (5, 4)\n",
       "┌──────────────┬─────────────────────────────────┬─────────────┬────────────┐\n",
       "│ autor        ┆ path                            ┆ cant_lineas ┆ qty_lineas │\n",
       "│ ---          ┆ ---                             ┆ ---         ┆ ---        │\n",
       "│ str          ┆ str                             ┆ i32         ┆ i64        │\n",
       "╞══════════════╪═════════════════════════════════╪═════════════╪════════════╡\n",
       "│ charly       ┆ data/dataset_03/cancion_alicia… ┆ 32          ┆ 32         │\n",
       "│ charly       ┆ data/dataset_03/desarma_y_sang… ┆ 23          ┆ 23         │\n",
       "│ vilca        ┆ data/dataset_03/nada_tengo.txt  ┆ 34          ┆ 34         │\n",
       "│ flaco        ┆ data/dataset_03/quedandote_o_y… ┆ 27          ┆ 27         │\n",
       "│ fontanarrosa ┆ data/dataset_03/y_te_digo_mas.… ┆ 79          ┆ 79         │\n",
       "└──────────────┴─────────────────────────────────┴─────────────┴────────────┘"
      ]
     },
     "execution_count": 68,
     "metadata": {},
     "output_type": "execute_result"
    }
   ],
   "source": [
    "%%time\n",
    "# lista inicializada\n",
    "wc = [0]*len(df)\n",
    "# iteramos dataframe\n",
    "for i,row in enumerate(df.iter_rows(named=True)):\n",
    "    # por cada elemento del df, invocamos f y guardamos en lista\n",
    "    wc[i] = procesar_archivo(row['path'])\n",
    "\n",
    "# esa lista ahora es columna del df\n",
    "\n",
    "df = df.with_columns(\n",
    "    pl.Series(\"cant_lineas\", wc, dtype=pl.Int32)\n",
    ")\n",
    "df"
   ]
  },
  {
   "cell_type": "markdown",
   "id": "91b50eb8-549f-4455-8147-7623df8177ba",
   "metadata": {},
   "source": [
    "- **Enfoque vectorial**"
   ]
  },
  {
   "cell_type": "code",
   "execution_count": 67,
   "id": "0ab9ec61-16f9-4674-a414-7d65a2621b9e",
   "metadata": {},
   "outputs": [
    {
     "name": "stdout",
     "output_type": "stream",
     "text": [
      "shape: (5, 4)\n",
      "┌──────────────┬─────────────────────────────────┬─────────────┬────────────┐\n",
      "│ autor        ┆ path                            ┆ cant_lineas ┆ qty_lineas │\n",
      "│ ---          ┆ ---                             ┆ ---         ┆ ---        │\n",
      "│ str          ┆ str                             ┆ i32         ┆ i64        │\n",
      "╞══════════════╪═════════════════════════════════╪═════════════╪════════════╡\n",
      "│ charly       ┆ data/dataset_03/cancion_alicia… ┆ 32          ┆ 32         │\n",
      "│ charly       ┆ data/dataset_03/desarma_y_sang… ┆ 23          ┆ 23         │\n",
      "│ vilca        ┆ data/dataset_03/nada_tengo.txt  ┆ 34          ┆ 34         │\n",
      "│ flaco        ┆ data/dataset_03/quedandote_o_y… ┆ 27          ┆ 27         │\n",
      "│ fontanarrosa ┆ data/dataset_03/y_te_digo_mas.… ┆ 79          ┆ 79         │\n",
      "└──────────────┴─────────────────────────────────┴─────────────┴────────────┘\n",
      "CPU times: user 4.42 ms, sys: 123 μs, total: 4.54 ms\n",
      "Wall time: 7.51 ms\n"
     ]
    }
   ],
   "source": [
    "%%time\n",
    "df = df.with_columns([\n",
    "    pl.col(\"path\")\n",
    "    .map_elements(procesar_archivo, return_dtype=pl.Int64)\n",
    "    .alias(\"qty_lineas\")\n",
    "])\n",
    "\n",
    "print(df)"
   ]
  },
  {
   "cell_type": "code",
   "execution_count": 46,
   "id": "173c4d79-5bde-4431-b24c-2b4919f2e323",
   "metadata": {},
   "outputs": [
    {
     "name": "stdout",
     "output_type": "stream",
     "text": [
      "shape: (2, 3)\n",
      "┌────────┬─────────────────────────────────┬────────────┐\n",
      "│ autor  ┆ path                            ┆ qty_lineas │\n",
      "│ ---    ┆ ---                             ┆ ---        │\n",
      "│ str    ┆ str                             ┆ i64        │\n",
      "╞════════╪═════════════════════════════════╪════════════╡\n",
      "│ charly ┆ data/dataset_03/cancion_alicia… ┆ 32         │\n",
      "│ charly ┆ data/dataset_03/desarma_y_sang… ┆ 23         │\n",
      "└────────┴─────────────────────────────────┴────────────┘\n"
     ]
    }
   ],
   "source": [
    "# Filtrar por etiqueta (por ejemplo, 'A')\n",
    "df_filtered = df.filter(pl.col(\"autor\") == 'charly')\n",
    "\n",
    "df_filtered = df_filtered.with_columns([\n",
    "    pl.col(\"path\")\n",
    "    .map_elements(procesar_archivo, return_dtype=pl.Int64)\n",
    "    .alias(\"qty_lineas\")\n",
    "])\n",
    "\n",
    "print(df_filtered)"
   ]
  },
  {
   "cell_type": "code",
   "execution_count": null,
   "id": "24ae7a29-7a35-46cd-8300-dca3d4920a92",
   "metadata": {},
   "outputs": [],
   "source": []
  }
 ],
 "metadata": {
  "kernelspec": {
   "display_name": "DataScience",
   "language": "python",
   "name": "datsci"
  },
  "language_info": {
   "codemirror_mode": {
    "name": "ipython",
    "version": 3
   },
   "file_extension": ".py",
   "mimetype": "text/x-python",
   "name": "python",
   "nbconvert_exporter": "python",
   "pygments_lexer": "ipython3",
   "version": "3.13.0"
  }
 },
 "nbformat": 4,
 "nbformat_minor": 5
}
