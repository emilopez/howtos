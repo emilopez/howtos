{
 "cells": [
  {
   "cell_type": "markdown",
   "id": "4784eaa3-5709-4082-b8f8-197f7134b0c2",
   "metadata": {},
   "source": [
    "# Howto Polars\n",
    "- Venis de Pandas y querés aprender a usar Polars\n",
    "- Veamos las diferencias y similitudes en las tareas más comunes\n",
    "\n",
    "- La diferencia mas importante: Polars establece operaciones que no son ejecutadas hasta no tener un contexto (algo que en pandas no existe). Por tanto uno opera con columnas genéricas de ningún dataframe en particular y luego cuando les da contexto, es decir, las relaciona con un dataframe en concreto ahì se ejecutan y toman sentido. Ta bueno. Por ejemplo:\n",
    "\n",
    "```\n",
    "imc = pl.col(\"peso\")/pl.col(\"altura\")**2\n",
    "```"
   ]
  },
  {
   "cell_type": "code",
   "execution_count": 1,
   "id": "82e05639-a67a-4e6d-bd61-ad0786b70ae0",
   "metadata": {},
   "outputs": [],
   "source": [
    "import polars as pl\n",
    "import pandas as pd"
   ]
  },
  {
   "cell_type": "markdown",
   "id": "6ba2c0c0-309a-48fa-8eae-63cb2587c1dd",
   "metadata": {},
   "source": [
    "## Lectura de CSV  "
   ]
  },
  {
   "cell_type": "code",
   "execution_count": 3,
   "id": "4db7c16e-f502-46d6-9432-38660d7435d6",
   "metadata": {},
   "outputs": [
    {
     "data": {
      "text/html": [
       "<div>\n",
       "<style scoped>\n",
       "    .dataframe tbody tr th:only-of-type {\n",
       "        vertical-align: middle;\n",
       "    }\n",
       "\n",
       "    .dataframe tbody tr th {\n",
       "        vertical-align: top;\n",
       "    }\n",
       "\n",
       "    .dataframe thead th {\n",
       "        text-align: right;\n",
       "    }\n",
       "</style>\n",
       "<table border=\"1\" class=\"dataframe\">\n",
       "  <thead>\n",
       "    <tr style=\"text-align: right;\">\n",
       "      <th></th>\n",
       "      <th>datetime</th>\n",
       "      <th>timelinux</th>\n",
       "      <th>s1</th>\n",
       "    </tr>\n",
       "  </thead>\n",
       "  <tbody>\n",
       "    <tr>\n",
       "      <th>0</th>\n",
       "      <td>2022-11-17 17:04:39</td>\n",
       "      <td>1.668705</td>\n",
       "      <td>104.0</td>\n",
       "    </tr>\n",
       "    <tr>\n",
       "      <th>1</th>\n",
       "      <td>2022-11-17 17:34:37</td>\n",
       "      <td>1.668706</td>\n",
       "      <td>107.0</td>\n",
       "    </tr>\n",
       "    <tr>\n",
       "      <th>2</th>\n",
       "      <td>2022-11-17 18:04:38</td>\n",
       "      <td>1.668708</td>\n",
       "      <td>3.0</td>\n",
       "    </tr>\n",
       "    <tr>\n",
       "      <th>3</th>\n",
       "      <td>2022-11-17 18:34:38</td>\n",
       "      <td>1.668710</td>\n",
       "      <td>3.0</td>\n",
       "    </tr>\n",
       "    <tr>\n",
       "      <th>4</th>\n",
       "      <td>2022-11-17 19:04:37</td>\n",
       "      <td>1.668712</td>\n",
       "      <td>2.0</td>\n",
       "    </tr>\n",
       "  </tbody>\n",
       "</table>\n",
       "</div>"
      ],
      "text/plain": [
       "              datetime  timelinux     s1\n",
       "0  2022-11-17 17:04:39   1.668705  104.0\n",
       "1  2022-11-17 17:34:37   1.668706  107.0\n",
       "2  2022-11-17 18:04:38   1.668708    3.0\n",
       "3  2022-11-17 18:34:38   1.668710    3.0\n",
       "4  2022-11-17 19:04:37   1.668712    2.0"
      ]
     },
     "execution_count": 3,
     "metadata": {},
     "output_type": "execute_result"
    }
   ],
   "source": [
    "pan_df = pd.read_csv(\"data/dataset_01/eqB4-s1-ciclo1.csv\")\n",
    "pan_df.head()"
   ]
  },
  {
   "cell_type": "code",
   "execution_count": 5,
   "id": "ea53831d-c1f8-4666-a578-a13e5a030565",
   "metadata": {},
   "outputs": [
    {
     "name": "stdout",
     "output_type": "stream",
     "text": [
      "<class 'pandas.core.frame.DataFrame'>\n",
      "RangeIndex: 1130 entries, 0 to 1129\n",
      "Data columns (total 3 columns):\n",
      " #   Column     Non-Null Count  Dtype  \n",
      "---  ------     --------------  -----  \n",
      " 0   datetime   1130 non-null   object \n",
      " 1   timelinux  1130 non-null   float64\n",
      " 2   s1         1130 non-null   float64\n",
      "dtypes: float64(2), object(1)\n",
      "memory usage: 26.6+ KB\n"
     ]
    }
   ],
   "source": [
    "# En pandas con .info() conocemos el tipo de dato de cada columna \n",
    "pan_df.info()"
   ]
  },
  {
   "cell_type": "code",
   "execution_count": 7,
   "id": "6237e059-142c-486b-bd74-986a50b9de91",
   "metadata": {},
   "outputs": [
    {
     "data": {
      "text/html": [
       "<div><style>\n",
       ".dataframe > thead > tr,\n",
       ".dataframe > tbody > tr {\n",
       "  text-align: right;\n",
       "  white-space: pre-wrap;\n",
       "}\n",
       "</style>\n",
       "<small>shape: (5, 3)</small><table border=\"1\" class=\"dataframe\"><thead><tr><th>datetime</th><th>timelinux</th><th>s1</th></tr><tr><td>str</td><td>f64</td><td>f64</td></tr></thead><tbody><tr><td>&quot;2022-11-17 17:04:39&quot;</td><td>1.668705</td><td>104.0</td></tr><tr><td>&quot;2022-11-17 17:34:37&quot;</td><td>1.668706</td><td>107.0</td></tr><tr><td>&quot;2022-11-17 18:04:38&quot;</td><td>1.668708</td><td>3.0</td></tr><tr><td>&quot;2022-11-17 18:34:38&quot;</td><td>1.66871</td><td>3.0</td></tr><tr><td>&quot;2022-11-17 19:04:37&quot;</td><td>1.668712</td><td>2.0</td></tr></tbody></table></div>"
      ],
      "text/plain": [
       "shape: (5, 3)\n",
       "┌─────────────────────┬───────────┬───────┐\n",
       "│ datetime            ┆ timelinux ┆ s1    │\n",
       "│ ---                 ┆ ---       ┆ ---   │\n",
       "│ str                 ┆ f64       ┆ f64   │\n",
       "╞═════════════════════╪═══════════╪═══════╡\n",
       "│ 2022-11-17 17:04:39 ┆ 1.668705  ┆ 104.0 │\n",
       "│ 2022-11-17 17:34:37 ┆ 1.668706  ┆ 107.0 │\n",
       "│ 2022-11-17 18:04:38 ┆ 1.668708  ┆ 3.0   │\n",
       "│ 2022-11-17 18:34:38 ┆ 1.66871   ┆ 3.0   │\n",
       "│ 2022-11-17 19:04:37 ┆ 1.668712  ┆ 2.0   │\n",
       "└─────────────────────┴───────────┴───────┘"
      ]
     },
     "execution_count": 7,
     "metadata": {},
     "output_type": "execute_result"
    }
   ],
   "source": [
    "pol_df = pl.read_csv(\"data/dataset_01/eqB4-s1-ciclo1.csv\")\n",
    "# En polars ya nos informa el tipo de dato de cada columna\n",
    "pol_df.head()"
   ]
  },
  {
   "cell_type": "code",
   "execution_count": 13,
   "id": "62505537-e1ae-408c-be6c-a10e9ba48271",
   "metadata": {},
   "outputs": [
    {
     "data": {
      "text/plain": [
       "Schema([('datetime', String), ('timelinux', Float64), ('s1', Float64)])"
      ]
     },
     "execution_count": 13,
     "metadata": {},
     "output_type": "execute_result"
    }
   ],
   "source": [
    "# Polars con .schema nos informacada columna el tipo de dato asociado\n",
    "pol_df.schema"
   ]
  },
  {
   "cell_type": "markdown",
   "id": "732b2e58-e011-45f6-8bcf-73adce9362c2",
   "metadata": {},
   "source": [
    "### Leer columna como datetime"
   ]
  },
  {
   "cell_type": "markdown",
   "id": "dd26be58-d4e1-4cd6-9dc3-edf7631687a6",
   "metadata": {},
   "source": [
    "- En pandas podemos indicar que una columna es de ese tipo al leer el archivo, en polars?"
   ]
  },
  {
   "cell_type": "code",
   "execution_count": 16,
   "id": "0cc6feca-a397-4515-957c-4920996c518b",
   "metadata": {},
   "outputs": [
    {
     "name": "stdout",
     "output_type": "stream",
     "text": [
      "<class 'pandas.core.frame.DataFrame'>\n",
      "RangeIndex: 1130 entries, 0 to 1129\n",
      "Data columns (total 3 columns):\n",
      " #   Column     Non-Null Count  Dtype         \n",
      "---  ------     --------------  -----         \n",
      " 0   datetime   1130 non-null   datetime64[ns]\n",
      " 1   timelinux  1130 non-null   float64       \n",
      " 2   s1         1130 non-null   float64       \n",
      "dtypes: datetime64[ns](1), float64(2)\n",
      "memory usage: 26.6 KB\n"
     ]
    }
   ],
   "source": [
    "pan_df = pd.read_csv(\"data/dataset_01/eqB4-s1-ciclo1.csv\", parse_dates = [\"datetime\"])\n",
    "pan_df.info()"
   ]
  },
  {
   "cell_type": "markdown",
   "id": "703acb20-1820-40f0-a5ca-6c6bd4e482a4",
   "metadata": {},
   "source": [
    "- **Polars** tiene `try_parse_dates` que se da cuenta del formato y ya lo interpreta correctamente, fijate: "
   ]
  },
  {
   "cell_type": "code",
   "execution_count": 18,
   "id": "3a4c131e-f22d-404c-a7ae-fa3cf1380f9a",
   "metadata": {},
   "outputs": [
    {
     "data": {
      "text/html": [
       "<div><style>\n",
       ".dataframe > thead > tr,\n",
       ".dataframe > tbody > tr {\n",
       "  text-align: right;\n",
       "  white-space: pre-wrap;\n",
       "}\n",
       "</style>\n",
       "<small>shape: (5, 3)</small><table border=\"1\" class=\"dataframe\"><thead><tr><th>datetime</th><th>timelinux</th><th>s1</th></tr><tr><td>datetime[μs]</td><td>f64</td><td>f64</td></tr></thead><tbody><tr><td>2022-11-17 17:04:39</td><td>1.668705</td><td>104.0</td></tr><tr><td>2022-11-17 17:34:37</td><td>1.668706</td><td>107.0</td></tr><tr><td>2022-11-17 18:04:38</td><td>1.668708</td><td>3.0</td></tr><tr><td>2022-11-17 18:34:38</td><td>1.66871</td><td>3.0</td></tr><tr><td>2022-11-17 19:04:37</td><td>1.668712</td><td>2.0</td></tr></tbody></table></div>"
      ],
      "text/plain": [
       "shape: (5, 3)\n",
       "┌─────────────────────┬───────────┬───────┐\n",
       "│ datetime            ┆ timelinux ┆ s1    │\n",
       "│ ---                 ┆ ---       ┆ ---   │\n",
       "│ datetime[μs]        ┆ f64       ┆ f64   │\n",
       "╞═════════════════════╪═══════════╪═══════╡\n",
       "│ 2022-11-17 17:04:39 ┆ 1.668705  ┆ 104.0 │\n",
       "│ 2022-11-17 17:34:37 ┆ 1.668706  ┆ 107.0 │\n",
       "│ 2022-11-17 18:04:38 ┆ 1.668708  ┆ 3.0   │\n",
       "│ 2022-11-17 18:34:38 ┆ 1.66871   ┆ 3.0   │\n",
       "│ 2022-11-17 19:04:37 ┆ 1.668712  ┆ 2.0   │\n",
       "└─────────────────────┴───────────┴───────┘"
      ]
     },
     "execution_count": 18,
     "metadata": {},
     "output_type": "execute_result"
    }
   ],
   "source": [
    "pol_df = pl.read_csv(\"data/dataset_01/eqB4-s1-ciclo1.csv\", try_parse_dates=True)\n",
    "pol_df.head()"
   ]
  },
  {
   "cell_type": "markdown",
   "id": "d3d6998e-ead3-4e08-9e3a-1405934f3683",
   "metadata": {},
   "source": [
    "- En **Polars** también se la podemos indicar manualmente con `schema_overrides` (antes era `dtypes`), así (ojo, tiene que ser compatible, sino se rompe):"
   ]
  },
  {
   "cell_type": "code",
   "execution_count": 22,
   "id": "c475a7ae-1fe2-4832-8104-bbd691892d2c",
   "metadata": {},
   "outputs": [
    {
     "data": {
      "text/html": [
       "<div><style>\n",
       ".dataframe > thead > tr,\n",
       ".dataframe > tbody > tr {\n",
       "  text-align: right;\n",
       "  white-space: pre-wrap;\n",
       "}\n",
       "</style>\n",
       "<small>shape: (5, 3)</small><table border=\"1\" class=\"dataframe\"><thead><tr><th>datetime</th><th>timelinux</th><th>s1</th></tr><tr><td>datetime[μs]</td><td>f64</td><td>f64</td></tr></thead><tbody><tr><td>2022-11-17 17:04:39</td><td>1.668705</td><td>104.0</td></tr><tr><td>2022-11-17 17:34:37</td><td>1.668706</td><td>107.0</td></tr><tr><td>2022-11-17 18:04:38</td><td>1.668708</td><td>3.0</td></tr><tr><td>2022-11-17 18:34:38</td><td>1.66871</td><td>3.0</td></tr><tr><td>2022-11-17 19:04:37</td><td>1.668712</td><td>2.0</td></tr></tbody></table></div>"
      ],
      "text/plain": [
       "shape: (5, 3)\n",
       "┌─────────────────────┬───────────┬───────┐\n",
       "│ datetime            ┆ timelinux ┆ s1    │\n",
       "│ ---                 ┆ ---       ┆ ---   │\n",
       "│ datetime[μs]        ┆ f64       ┆ f64   │\n",
       "╞═════════════════════╪═══════════╪═══════╡\n",
       "│ 2022-11-17 17:04:39 ┆ 1.668705  ┆ 104.0 │\n",
       "│ 2022-11-17 17:34:37 ┆ 1.668706  ┆ 107.0 │\n",
       "│ 2022-11-17 18:04:38 ┆ 1.668708  ┆ 3.0   │\n",
       "│ 2022-11-17 18:34:38 ┆ 1.66871   ┆ 3.0   │\n",
       "│ 2022-11-17 19:04:37 ┆ 1.668712  ┆ 2.0   │\n",
       "└─────────────────────┴───────────┴───────┘"
      ]
     },
     "execution_count": 22,
     "metadata": {},
     "output_type": "execute_result"
    }
   ],
   "source": [
    "pol_df = pl.read_csv(\"data/dataset_01/eqB4-s1-ciclo1.csv\", \n",
    "                     schema_overrides={\"datetime\": pl.Datetime})\n",
    "pol_df.head()"
   ]
  },
  {
   "cell_type": "markdown",
   "id": "28e69545-bf43-4448-a100-c6f1c4129f13",
   "metadata": {},
   "source": [
    "## Seleccionar columnas \n",
    "- En pandas seleccionar una columna te retorna una Serie, en polars?"
   ]
  },
  {
   "cell_type": "code",
   "execution_count": 24,
   "id": "1a39db66-560a-4f1f-8afd-04de3c8d79a8",
   "metadata": {},
   "outputs": [
    {
     "data": {
      "text/plain": [
       "pandas.core.series.Series"
      ]
     },
     "execution_count": 24,
     "metadata": {},
     "output_type": "execute_result"
    }
   ],
   "source": [
    "type(pan_df[\"datetime\"])"
   ]
  },
  {
   "cell_type": "code",
   "execution_count": 26,
   "id": "870e68e9-275c-4956-bd8c-183f17dd81e3",
   "metadata": {},
   "outputs": [
    {
     "data": {
      "text/plain": [
       "polars.series.series.Series"
      ]
     },
     "execution_count": 26,
     "metadata": {},
     "output_type": "execute_result"
    }
   ],
   "source": [
    "type(pol_df[\"datetime\"])"
   ]
  },
  {
   "cell_type": "code",
   "execution_count": 27,
   "id": "c15aa7b6-48cf-46a5-affa-77c3656c593a",
   "metadata": {},
   "outputs": [
    {
     "ename": "AttributeError",
     "evalue": "'DataFrame' object has no attribute 'col'",
     "output_type": "error",
     "traceback": [
      "\u001b[0;31m---------------------------------------------------------------------------\u001b[0m",
      "\u001b[0;31mAttributeError\u001b[0m                            Traceback (most recent call last)",
      "Cell \u001b[0;32mIn[27], line 1\u001b[0m\n\u001b[0;32m----> 1\u001b[0m \u001b[43mpol_df\u001b[49m\u001b[38;5;241;43m.\u001b[39;49m\u001b[43mcol\u001b[49m(\u001b[38;5;124m\"\u001b[39m\u001b[38;5;124mdatetime\u001b[39m\u001b[38;5;124m\"\u001b[39m)\n",
      "\u001b[0;31mAttributeError\u001b[0m: 'DataFrame' object has no attribute 'col'"
     ]
    }
   ],
   "source": [
    "pol_df.col(\"datetime\")"
   ]
  },
  {
   "cell_type": "code",
   "execution_count": null,
   "id": "7c56ef3a-b096-4725-83db-97b9c10fbad4",
   "metadata": {},
   "outputs": [],
   "source": []
  }
 ],
 "metadata": {
  "kernelspec": {
   "display_name": "DataScience",
   "language": "python",
   "name": "datsci"
  },
  "language_info": {
   "codemirror_mode": {
    "name": "ipython",
    "version": 3
   },
   "file_extension": ".py",
   "mimetype": "text/x-python",
   "name": "python",
   "nbconvert_exporter": "python",
   "pygments_lexer": "ipython3",
   "version": "3.13.0"
  }
 },
 "nbformat": 4,
 "nbformat_minor": 5
}
