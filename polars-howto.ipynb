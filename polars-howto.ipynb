{
 "cells": [
  {
   "cell_type": "markdown",
   "id": "4784eaa3-5709-4082-b8f8-197f7134b0c2",
   "metadata": {},
   "source": [
    "# Howto Polars\n",
    "- Venis de Pandas y querés aprender a usar Polars\n",
    "- Veamos las diferencias y similitudes en las tareas más comunes\n",
    "\n",
    "- La diferencia mas importante:\n",
    "   - Polars establece operaciones que no son ejecutadas hasta no tener un contexto (algo que en pandas no existe).\n",
    "   - Por tanto, uno opera con columnas genéricas de ningún dataframe (`pl.col`) en particular\n",
    "   - Luego, cuando se les da contexto, es decir, se las relaciona con un dataframe en concreto, ahí se ejecutan y toman sentido ([Ver ejemplo de la documentación oficial](https://docs.pola.rs/user-guide/concepts/expressions-and-contexts/#expressions)).\n",
    "\n",
    "```\n",
    "imc = pl.col(\"peso\")/pl.col(\"altura\")**2\n",
    "```"
   ]
  },
  {
   "cell_type": "code",
   "execution_count": 1,
   "id": "82e05639-a67a-4e6d-bd61-ad0786b70ae0",
   "metadata": {},
   "outputs": [],
   "source": [
    "import polars as pl\n",
    "import pandas as pd"
   ]
  },
  {
   "cell_type": "markdown",
   "id": "6ba2c0c0-309a-48fa-8eae-63cb2587c1dd",
   "metadata": {},
   "source": [
    "## Lectura de CSV  "
   ]
  },
  {
   "cell_type": "code",
   "execution_count": 3,
   "id": "4db7c16e-f502-46d6-9432-38660d7435d6",
   "metadata": {},
   "outputs": [
    {
     "data": {
      "text/html": [
       "<div>\n",
       "<style scoped>\n",
       "    .dataframe tbody tr th:only-of-type {\n",
       "        vertical-align: middle;\n",
       "    }\n",
       "\n",
       "    .dataframe tbody tr th {\n",
       "        vertical-align: top;\n",
       "    }\n",
       "\n",
       "    .dataframe thead th {\n",
       "        text-align: right;\n",
       "    }\n",
       "</style>\n",
       "<table border=\"1\" class=\"dataframe\">\n",
       "  <thead>\n",
       "    <tr style=\"text-align: right;\">\n",
       "      <th></th>\n",
       "      <th>datetime</th>\n",
       "      <th>timelinux</th>\n",
       "      <th>s1</th>\n",
       "    </tr>\n",
       "  </thead>\n",
       "  <tbody>\n",
       "    <tr>\n",
       "      <th>0</th>\n",
       "      <td>2022-11-17 17:04:39</td>\n",
       "      <td>1.668705</td>\n",
       "      <td>104.0</td>\n",
       "    </tr>\n",
       "    <tr>\n",
       "      <th>1</th>\n",
       "      <td>2022-11-17 17:34:37</td>\n",
       "      <td>1.668706</td>\n",
       "      <td>107.0</td>\n",
       "    </tr>\n",
       "    <tr>\n",
       "      <th>2</th>\n",
       "      <td>2022-11-17 18:04:38</td>\n",
       "      <td>1.668708</td>\n",
       "      <td>3.0</td>\n",
       "    </tr>\n",
       "    <tr>\n",
       "      <th>3</th>\n",
       "      <td>2022-11-17 18:34:38</td>\n",
       "      <td>1.668710</td>\n",
       "      <td>3.0</td>\n",
       "    </tr>\n",
       "    <tr>\n",
       "      <th>4</th>\n",
       "      <td>2022-11-17 19:04:37</td>\n",
       "      <td>1.668712</td>\n",
       "      <td>2.0</td>\n",
       "    </tr>\n",
       "  </tbody>\n",
       "</table>\n",
       "</div>"
      ],
      "text/plain": [
       "              datetime  timelinux     s1\n",
       "0  2022-11-17 17:04:39   1.668705  104.0\n",
       "1  2022-11-17 17:34:37   1.668706  107.0\n",
       "2  2022-11-17 18:04:38   1.668708    3.0\n",
       "3  2022-11-17 18:34:38   1.668710    3.0\n",
       "4  2022-11-17 19:04:37   1.668712    2.0"
      ]
     },
     "execution_count": 3,
     "metadata": {},
     "output_type": "execute_result"
    }
   ],
   "source": [
    "pan_df = pd.read_csv(\"data/dataset_01/eqB4-s1-ciclo1.csv\")\n",
    "pan_df.head()"
   ]
  },
  {
   "cell_type": "code",
   "execution_count": 5,
   "id": "ea53831d-c1f8-4666-a578-a13e5a030565",
   "metadata": {},
   "outputs": [
    {
     "name": "stdout",
     "output_type": "stream",
     "text": [
      "<class 'pandas.core.frame.DataFrame'>\n",
      "RangeIndex: 1130 entries, 0 to 1129\n",
      "Data columns (total 3 columns):\n",
      " #   Column     Non-Null Count  Dtype  \n",
      "---  ------     --------------  -----  \n",
      " 0   datetime   1130 non-null   object \n",
      " 1   timelinux  1130 non-null   float64\n",
      " 2   s1         1130 non-null   float64\n",
      "dtypes: float64(2), object(1)\n",
      "memory usage: 26.6+ KB\n"
     ]
    }
   ],
   "source": [
    "# En pandas con .info() conocemos el tipo de dato de cada columna \n",
    "pan_df.info()"
   ]
  },
  {
   "cell_type": "code",
   "execution_count": 7,
   "id": "6237e059-142c-486b-bd74-986a50b9de91",
   "metadata": {},
   "outputs": [
    {
     "data": {
      "text/html": [
       "<div><style>\n",
       ".dataframe > thead > tr,\n",
       ".dataframe > tbody > tr {\n",
       "  text-align: right;\n",
       "  white-space: pre-wrap;\n",
       "}\n",
       "</style>\n",
       "<small>shape: (5, 3)</small><table border=\"1\" class=\"dataframe\"><thead><tr><th>datetime</th><th>timelinux</th><th>s1</th></tr><tr><td>str</td><td>f64</td><td>f64</td></tr></thead><tbody><tr><td>&quot;2022-11-17 17:04:39&quot;</td><td>1.668705</td><td>104.0</td></tr><tr><td>&quot;2022-11-17 17:34:37&quot;</td><td>1.668706</td><td>107.0</td></tr><tr><td>&quot;2022-11-17 18:04:38&quot;</td><td>1.668708</td><td>3.0</td></tr><tr><td>&quot;2022-11-17 18:34:38&quot;</td><td>1.66871</td><td>3.0</td></tr><tr><td>&quot;2022-11-17 19:04:37&quot;</td><td>1.668712</td><td>2.0</td></tr></tbody></table></div>"
      ],
      "text/plain": [
       "shape: (5, 3)\n",
       "┌─────────────────────┬───────────┬───────┐\n",
       "│ datetime            ┆ timelinux ┆ s1    │\n",
       "│ ---                 ┆ ---       ┆ ---   │\n",
       "│ str                 ┆ f64       ┆ f64   │\n",
       "╞═════════════════════╪═══════════╪═══════╡\n",
       "│ 2022-11-17 17:04:39 ┆ 1.668705  ┆ 104.0 │\n",
       "│ 2022-11-17 17:34:37 ┆ 1.668706  ┆ 107.0 │\n",
       "│ 2022-11-17 18:04:38 ┆ 1.668708  ┆ 3.0   │\n",
       "│ 2022-11-17 18:34:38 ┆ 1.66871   ┆ 3.0   │\n",
       "│ 2022-11-17 19:04:37 ┆ 1.668712  ┆ 2.0   │\n",
       "└─────────────────────┴───────────┴───────┘"
      ]
     },
     "execution_count": 7,
     "metadata": {},
     "output_type": "execute_result"
    }
   ],
   "source": [
    "pol_df = pl.read_csv(\"data/dataset_01/eqB4-s1-ciclo1.csv\")\n",
    "# En polars ya nos informa el tipo de dato de cada columna\n",
    "pol_df.head()"
   ]
  },
  {
   "cell_type": "code",
   "execution_count": 13,
   "id": "62505537-e1ae-408c-be6c-a10e9ba48271",
   "metadata": {},
   "outputs": [
    {
     "data": {
      "text/plain": [
       "Schema([('datetime', String), ('timelinux', Float64), ('s1', Float64)])"
      ]
     },
     "execution_count": 13,
     "metadata": {},
     "output_type": "execute_result"
    }
   ],
   "source": [
    "# Polars con .schema nos informacada columna el tipo de dato asociado\n",
    "pol_df.schema"
   ]
  },
  {
   "cell_type": "markdown",
   "id": "732b2e58-e011-45f6-8bcf-73adce9362c2",
   "metadata": {},
   "source": [
    "### Leer columna como datetime"
   ]
  },
  {
   "cell_type": "markdown",
   "id": "dd26be58-d4e1-4cd6-9dc3-edf7631687a6",
   "metadata": {},
   "source": [
    "- En pandas podemos indicar que una columna es de ese tipo al leer el archivo, en polars?"
   ]
  },
  {
   "cell_type": "code",
   "execution_count": 16,
   "id": "0cc6feca-a397-4515-957c-4920996c518b",
   "metadata": {},
   "outputs": [
    {
     "name": "stdout",
     "output_type": "stream",
     "text": [
      "<class 'pandas.core.frame.DataFrame'>\n",
      "RangeIndex: 1130 entries, 0 to 1129\n",
      "Data columns (total 3 columns):\n",
      " #   Column     Non-Null Count  Dtype         \n",
      "---  ------     --------------  -----         \n",
      " 0   datetime   1130 non-null   datetime64[ns]\n",
      " 1   timelinux  1130 non-null   float64       \n",
      " 2   s1         1130 non-null   float64       \n",
      "dtypes: datetime64[ns](1), float64(2)\n",
      "memory usage: 26.6 KB\n"
     ]
    }
   ],
   "source": [
    "pan_df = pd.read_csv(\"data/dataset_01/eqB4-s1-ciclo1.csv\", parse_dates = [\"datetime\"])\n",
    "pan_df.info()"
   ]
  },
  {
   "cell_type": "markdown",
   "id": "703acb20-1820-40f0-a5ca-6c6bd4e482a4",
   "metadata": {},
   "source": [
    "- **Polars** tiene `try_parse_dates` que se da cuenta del formato y ya lo interpreta correctamente, fijate: "
   ]
  },
  {
   "cell_type": "code",
   "execution_count": 18,
   "id": "3a4c131e-f22d-404c-a7ae-fa3cf1380f9a",
   "metadata": {},
   "outputs": [
    {
     "data": {
      "text/html": [
       "<div><style>\n",
       ".dataframe > thead > tr,\n",
       ".dataframe > tbody > tr {\n",
       "  text-align: right;\n",
       "  white-space: pre-wrap;\n",
       "}\n",
       "</style>\n",
       "<small>shape: (5, 3)</small><table border=\"1\" class=\"dataframe\"><thead><tr><th>datetime</th><th>timelinux</th><th>s1</th></tr><tr><td>datetime[μs]</td><td>f64</td><td>f64</td></tr></thead><tbody><tr><td>2022-11-17 17:04:39</td><td>1.668705</td><td>104.0</td></tr><tr><td>2022-11-17 17:34:37</td><td>1.668706</td><td>107.0</td></tr><tr><td>2022-11-17 18:04:38</td><td>1.668708</td><td>3.0</td></tr><tr><td>2022-11-17 18:34:38</td><td>1.66871</td><td>3.0</td></tr><tr><td>2022-11-17 19:04:37</td><td>1.668712</td><td>2.0</td></tr></tbody></table></div>"
      ],
      "text/plain": [
       "shape: (5, 3)\n",
       "┌─────────────────────┬───────────┬───────┐\n",
       "│ datetime            ┆ timelinux ┆ s1    │\n",
       "│ ---                 ┆ ---       ┆ ---   │\n",
       "│ datetime[μs]        ┆ f64       ┆ f64   │\n",
       "╞═════════════════════╪═══════════╪═══════╡\n",
       "│ 2022-11-17 17:04:39 ┆ 1.668705  ┆ 104.0 │\n",
       "│ 2022-11-17 17:34:37 ┆ 1.668706  ┆ 107.0 │\n",
       "│ 2022-11-17 18:04:38 ┆ 1.668708  ┆ 3.0   │\n",
       "│ 2022-11-17 18:34:38 ┆ 1.66871   ┆ 3.0   │\n",
       "│ 2022-11-17 19:04:37 ┆ 1.668712  ┆ 2.0   │\n",
       "└─────────────────────┴───────────┴───────┘"
      ]
     },
     "execution_count": 18,
     "metadata": {},
     "output_type": "execute_result"
    }
   ],
   "source": [
    "pol_df = pl.read_csv(\"data/dataset_01/eqB4-s1-ciclo1.csv\", try_parse_dates=True)\n",
    "pol_df.head()"
   ]
  },
  {
   "cell_type": "markdown",
   "id": "d3d6998e-ead3-4e08-9e3a-1405934f3683",
   "metadata": {},
   "source": [
    "- En **Polars** también se la podemos indicar manualmente con `schema_overrides` (antes era `dtypes`), así (ojo, tiene que ser compatible, sino se rompe):"
   ]
  },
  {
   "cell_type": "code",
   "execution_count": 22,
   "id": "c475a7ae-1fe2-4832-8104-bbd691892d2c",
   "metadata": {},
   "outputs": [
    {
     "data": {
      "text/html": [
       "<div><style>\n",
       ".dataframe > thead > tr,\n",
       ".dataframe > tbody > tr {\n",
       "  text-align: right;\n",
       "  white-space: pre-wrap;\n",
       "}\n",
       "</style>\n",
       "<small>shape: (5, 3)</small><table border=\"1\" class=\"dataframe\"><thead><tr><th>datetime</th><th>timelinux</th><th>s1</th></tr><tr><td>datetime[μs]</td><td>f64</td><td>f64</td></tr></thead><tbody><tr><td>2022-11-17 17:04:39</td><td>1.668705</td><td>104.0</td></tr><tr><td>2022-11-17 17:34:37</td><td>1.668706</td><td>107.0</td></tr><tr><td>2022-11-17 18:04:38</td><td>1.668708</td><td>3.0</td></tr><tr><td>2022-11-17 18:34:38</td><td>1.66871</td><td>3.0</td></tr><tr><td>2022-11-17 19:04:37</td><td>1.668712</td><td>2.0</td></tr></tbody></table></div>"
      ],
      "text/plain": [
       "shape: (5, 3)\n",
       "┌─────────────────────┬───────────┬───────┐\n",
       "│ datetime            ┆ timelinux ┆ s1    │\n",
       "│ ---                 ┆ ---       ┆ ---   │\n",
       "│ datetime[μs]        ┆ f64       ┆ f64   │\n",
       "╞═════════════════════╪═══════════╪═══════╡\n",
       "│ 2022-11-17 17:04:39 ┆ 1.668705  ┆ 104.0 │\n",
       "│ 2022-11-17 17:34:37 ┆ 1.668706  ┆ 107.0 │\n",
       "│ 2022-11-17 18:04:38 ┆ 1.668708  ┆ 3.0   │\n",
       "│ 2022-11-17 18:34:38 ┆ 1.66871   ┆ 3.0   │\n",
       "│ 2022-11-17 19:04:37 ┆ 1.668712  ┆ 2.0   │\n",
       "└─────────────────────┴───────────┴───────┘"
      ]
     },
     "execution_count": 22,
     "metadata": {},
     "output_type": "execute_result"
    }
   ],
   "source": [
    "pol_df = pl.read_csv(\"data/dataset_01/eqB4-s1-ciclo1.csv\", \n",
    "                     schema_overrides={\"datetime\": pl.Datetime})\n",
    "pol_df.head()"
   ]
  },
  {
   "cell_type": "markdown",
   "id": "28e69545-bf43-4448-a100-c6f1c4129f13",
   "metadata": {},
   "source": [
    "## Seleccionar columnas \n",
    "- En pandas seleccionar una columna te retorna una Serie, en polars?"
   ]
  },
  {
   "cell_type": "code",
   "execution_count": 24,
   "id": "1a39db66-560a-4f1f-8afd-04de3c8d79a8",
   "metadata": {},
   "outputs": [
    {
     "data": {
      "text/plain": [
       "pandas.core.series.Series"
      ]
     },
     "execution_count": 24,
     "metadata": {},
     "output_type": "execute_result"
    }
   ],
   "source": [
    "type(pan_df[\"datetime\"])"
   ]
  },
  {
   "cell_type": "code",
   "execution_count": 26,
   "id": "870e68e9-275c-4956-bd8c-183f17dd81e3",
   "metadata": {},
   "outputs": [
    {
     "data": {
      "text/plain": [
       "polars.series.series.Series"
      ]
     },
     "execution_count": 26,
     "metadata": {},
     "output_type": "execute_result"
    }
   ],
   "source": [
    "type(pol_df[\"datetime\"])"
   ]
  },
  {
   "cell_type": "markdown",
   "id": "8a40a4a7-c187-4629-8deb-5a127d5c8fb3",
   "metadata": {},
   "source": [
    "- Seleccionamos varias columnas: igual que pandas"
   ]
  },
  {
   "cell_type": "code",
   "execution_count": 31,
   "id": "7c56ef3a-b096-4725-83db-97b9c10fbad4",
   "metadata": {},
   "outputs": [
    {
     "data": {
      "text/html": [
       "<div><style>\n",
       ".dataframe > thead > tr,\n",
       ".dataframe > tbody > tr {\n",
       "  text-align: right;\n",
       "  white-space: pre-wrap;\n",
       "}\n",
       "</style>\n",
       "<small>shape: (1_130, 2)</small><table border=\"1\" class=\"dataframe\"><thead><tr><th>datetime</th><th>s1</th></tr><tr><td>datetime[μs]</td><td>f64</td></tr></thead><tbody><tr><td>2022-11-17 17:04:39</td><td>104.0</td></tr><tr><td>2022-11-17 17:34:37</td><td>107.0</td></tr><tr><td>2022-11-17 18:04:38</td><td>3.0</td></tr><tr><td>2022-11-17 18:34:38</td><td>3.0</td></tr><tr><td>2022-11-17 19:04:37</td><td>2.0</td></tr><tr><td>&hellip;</td><td>&hellip;</td></tr><tr><td>2022-12-11 04:34:25</td><td>103.0</td></tr><tr><td>2022-12-11 05:04:25</td><td>91.0</td></tr><tr><td>2022-12-11 05:34:25</td><td>86.0</td></tr><tr><td>2022-12-11 06:04:24</td><td>78.0</td></tr><tr><td>2022-12-11 07:32:20</td><td>78.0</td></tr></tbody></table></div>"
      ],
      "text/plain": [
       "shape: (1_130, 2)\n",
       "┌─────────────────────┬───────┐\n",
       "│ datetime            ┆ s1    │\n",
       "│ ---                 ┆ ---   │\n",
       "│ datetime[μs]        ┆ f64   │\n",
       "╞═════════════════════╪═══════╡\n",
       "│ 2022-11-17 17:04:39 ┆ 104.0 │\n",
       "│ 2022-11-17 17:34:37 ┆ 107.0 │\n",
       "│ 2022-11-17 18:04:38 ┆ 3.0   │\n",
       "│ 2022-11-17 18:34:38 ┆ 3.0   │\n",
       "│ 2022-11-17 19:04:37 ┆ 2.0   │\n",
       "│ …                   ┆ …     │\n",
       "│ 2022-12-11 04:34:25 ┆ 103.0 │\n",
       "│ 2022-12-11 05:04:25 ┆ 91.0  │\n",
       "│ 2022-12-11 05:34:25 ┆ 86.0  │\n",
       "│ 2022-12-11 06:04:24 ┆ 78.0  │\n",
       "│ 2022-12-11 07:32:20 ┆ 78.0  │\n",
       "└─────────────────────┴───────┘"
      ]
     },
     "execution_count": 31,
     "metadata": {},
     "output_type": "execute_result"
    }
   ],
   "source": [
    "pol_df[[\"datetime\", \"s1\"]]"
   ]
  },
  {
   "cell_type": "markdown",
   "id": "6ae32e01-308d-41d5-9516-ccfce5a68049",
   "metadata": {},
   "source": [
    "## No tan distintos\n",
    "- Vamos derecho a lo que es diferente"
   ]
  },
  {
   "cell_type": "code",
   "execution_count": 9,
   "id": "e7877bed-02a7-409d-b927-a3aa23c72f00",
   "metadata": {},
   "outputs": [
    {
     "name": "stdout",
     "output_type": "stream",
     "text": [
      "shape: (4, 4)\n",
      "┌──────────┬──────┬──────────────┬──────────┐\n",
      "│ nombre   ┆ edad ┆ ciudad       ┆ dni      │\n",
      "│ ---      ┆ ---  ┆ ---          ┆ ---      │\n",
      "│ str      ┆ i64  ┆ str          ┆ str      │\n",
      "╞══════════╪══════╪══════════════╪══════════╡\n",
      "│ Ana      ┆ 30   ┆ Buenos Aires ┆ null     │\n",
      "│ Pedro    ┆ 25   ┆ Córdoba      ┆ null     │\n",
      "│ María    ┆ 35   ┆ Buenos Aires ┆ null     │\n",
      "│ Emiliano ┆ 43   ┆ Tostado      ┆ 28331969 │\n",
      "└──────────┴──────┴──────────────┴──────────┘\n"
     ]
    }
   ],
   "source": [
    "# Creamos un DataFrame a partir de una lista de diccionarios\n",
    "data = [\n",
    "    {\"nombre\": \"Ana\", \"edad\": 30, \"ciudad\": \"Buenos Aires\"},\n",
    "    {\"nombre\": \"Pedro\", \"edad\": 25, \"ciudad\": \"Córdoba\"},\n",
    "    {\"nombre\": \"María\", \"edad\": 35, \"ciudad\": \"Buenos Aires\"},\n",
    "    {\"nombre\": \"Emiliano\", \"edad\": 43, \"ciudad\": \"Tostado\", \"dni\":\"28331969\"},\n",
    "]\n",
    "\n",
    "df = pl.DataFrame(data)\n",
    "\n",
    "# Mostramos el DataFrame\n",
    "print(df)"
   ]
  },
  {
   "cell_type": "code",
   "execution_count": 15,
   "id": "bf81c5d6-09b3-41e8-b238-33718341c45a",
   "metadata": {},
   "outputs": [
    {
     "data": {
      "text/html": [
       "<div><style>\n",
       ".dataframe > thead > tr,\n",
       ".dataframe > tbody > tr {\n",
       "  text-align: right;\n",
       "  white-space: pre-wrap;\n",
       "}\n",
       "</style>\n",
       "<small>shape: (2, 4)</small><table border=\"1\" class=\"dataframe\"><thead><tr><th>nombre</th><th>edad</th><th>ciudad</th><th>dni</th></tr><tr><td>str</td><td>i64</td><td>str</td><td>str</td></tr></thead><tbody><tr><td>&quot;Ana&quot;</td><td>30</td><td>&quot;Buenos Aires&quot;</td><td>null</td></tr><tr><td>&quot;María&quot;</td><td>35</td><td>&quot;Buenos Aires&quot;</td><td>null</td></tr></tbody></table></div>"
      ],
      "text/plain": [
       "shape: (2, 4)\n",
       "┌────────┬──────┬──────────────┬──────┐\n",
       "│ nombre ┆ edad ┆ ciudad       ┆ dni  │\n",
       "│ ---    ┆ ---  ┆ ---          ┆ ---  │\n",
       "│ str    ┆ i64  ┆ str          ┆ str  │\n",
       "╞════════╪══════╪══════════════╪══════╡\n",
       "│ Ana    ┆ 30   ┆ Buenos Aires ┆ null │\n",
       "│ María  ┆ 35   ┆ Buenos Aires ┆ null │\n",
       "└────────┴──────┴──────────────┴──────┘"
      ]
     },
     "execution_count": 15,
     "metadata": {},
     "output_type": "execute_result"
    }
   ],
   "source": [
    "# filtramos parecido a lo que serìa el boolean indexing de pandas\n",
    "\n",
    "df_filtrado = df.filter(\n",
    "    (pl.col(\"edad\") >= 30) & (pl.col(\"ciudad\") == \"Buenos Aires\")\n",
    ")\n",
    "\n",
    "df_filtrado"
   ]
  },
  {
   "cell_type": "code",
   "execution_count": 19,
   "id": "9de6cc19-f0aa-4d0b-8344-c7778b7770d4",
   "metadata": {},
   "outputs": [
    {
     "data": {
      "text/html": [
       "<div><style>\n",
       ".dataframe > thead > tr,\n",
       ".dataframe > tbody > tr {\n",
       "  text-align: right;\n",
       "  white-space: pre-wrap;\n",
       "}\n",
       "</style>\n",
       "<small>shape: (1, 4)</small><table border=\"1\" class=\"dataframe\"><thead><tr><th>nombre</th><th>edad</th><th>ciudad</th><th>dni</th></tr><tr><td>str</td><td>i64</td><td>str</td><td>str</td></tr></thead><tbody><tr><td>&quot;Emiliano&quot;</td><td>43</td><td>&quot;Tostado&quot;</td><td>&quot;28331969&quot;</td></tr></tbody></table></div>"
      ],
      "text/plain": [
       "shape: (1, 4)\n",
       "┌──────────┬──────┬─────────┬──────────┐\n",
       "│ nombre   ┆ edad ┆ ciudad  ┆ dni      │\n",
       "│ ---      ┆ ---  ┆ ---     ┆ ---      │\n",
       "│ str      ┆ i64  ┆ str     ┆ str      │\n",
       "╞══════════╪══════╪═════════╪══════════╡\n",
       "│ Emiliano ┆ 43   ┆ Tostado ┆ 28331969 │\n",
       "└──────────┴──────┴─────────┴──────────┘"
      ]
     },
     "execution_count": 19,
     "metadata": {},
     "output_type": "execute_result"
    }
   ],
   "source": [
    "# tenemos metodos sobre las columnas cuando tenemos valores nulos\n",
    "\n",
    "df_filtrado = df.filter(\n",
    "    (pl.col(\"edad\") >= 30) & (~pl.col(\"dni\").is_null())\n",
    ")\n",
    "\n",
    "df_filtrado"
   ]
  },
  {
   "cell_type": "code",
   "execution_count": null,
   "id": "91b5aa7c-7e0e-41d8-a96b-09b4d7366822",
   "metadata": {},
   "outputs": [],
   "source": []
  }
 ],
 "metadata": {
  "kernelspec": {
   "display_name": "DataScience",
   "language": "python",
   "name": "datsci"
  },
  "language_info": {
   "codemirror_mode": {
    "name": "ipython",
    "version": 3
   },
   "file_extension": ".py",
   "mimetype": "text/x-python",
   "name": "python",
   "nbconvert_exporter": "python",
   "pygments_lexer": "ipython3",
   "version": "3.13.0"
  }
 },
 "nbformat": 4,
 "nbformat_minor": 5
}
