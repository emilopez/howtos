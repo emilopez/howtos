{
 "cells": [
  {
   "cell_type": "markdown",
   "id": "2fd03d76-66c5-4dd6-a462-be5feaa32916",
   "metadata": {},
   "source": [
    "# Narwhals howto\n",
    "\n",
    "\n",
    "Links útiles:\n",
    "- https://github.com/narwhals-dev/narwhals\n",
    "- https://2024.pycon.it/en/event/how-you-can-write-a-dataframe-agnostic-library\n",
    "- https://labs.quansight.org/blog/dataframe-interop-pycon-lit-2024\n",
    "- https://labs.quansight.org/blog/scikit-lego-narwhals\n",
    "\n",
    "## Motivación\n",
    "- No queremos tener funciones o libs que estén atadas al tipo de dataframe que usamos, no vamos a replicarla y tener una para polars, otra para padas, modin, cuDF, etc.\n",
    "- Tampoco pretendemos ir detras de cada nueva lib y andar haciendo migraciones masivas de nuestro código\n",
    "- Ni queremos obligar a que usen un determinado dataframe, si te sentís bien con pandas, seguí usándolo, yo no te voy a molestar\n",
    "\n",
    "**¿Qué es?**\n",
    "Es una capa de abstracción que agregamos a nuestras funciones y nos olvidamos del problema. Veamos un ejemplo concreto para una función que da soporte para dataframe pandas y polars:"
   ]
  },
  {
   "cell_type": "code",
   "execution_count": 47,
   "id": "cae111b0-9499-4e87-8cc5-a35cd941095f",
   "metadata": {},
   "outputs": [],
   "source": [
    "import polars as pl\n",
    "import pandas as pd\n",
    "import narwhals as nw"
   ]
  },
  {
   "cell_type": "code",
   "execution_count": 48,
   "id": "0d44fee4-e90b-452c-9b2f-7557dd714885",
   "metadata": {},
   "outputs": [
    {
     "name": "stdout",
     "output_type": "stream",
     "text": [
      "Polars: v1.10.0 / Pandas: v2.2.3 / Narwhals: v1.18.3\n"
     ]
    }
   ],
   "source": [
    "print(f\"Polars: v{pl.__version__} / Pandas: v{pd.__version__} / Narwhals: v{nw.__version__}\")"
   ]
  },
  {
   "cell_type": "code",
   "execution_count": 40,
   "id": "4fb865e0-0983-4eaa-9786-82753c7d1fd2",
   "metadata": {},
   "outputs": [],
   "source": [
    "def has_artist_bad(artist, df):\n",
    "    # para pandas\n",
    "    if isinstance(df, pd.DataFrame):\n",
    "        return artist in df[\"artist\"]\n",
    "    # para polars\n",
    "    if isinstance(df, (pl.DataFrame, pl.LazyFrame)):\n",
    "        return artist in df[\"artist\"]"
   ]
  },
  {
   "cell_type": "code",
   "execution_count": 52,
   "id": "0379718d-20aa-423a-a965-b3f72b28cf99",
   "metadata": {},
   "outputs": [],
   "source": [
    "data = {\"artist\":[\"charly\", \"divididos\", \"sumo\", \"divididos\"],\n",
    "        \"cd\":[\"clics modernos\", \"amapola del 66\", \"Llegando los monos\", \"amapola del 66\"], \n",
    "        \"song\":[\"Ojos de video tape\", \"La flor azul\", \"Estallando desde el oceano\", \"hombres en U\"]}\n",
    "df_pd = pd.DataFrame(data)\n",
    "df_pl = pl.DataFrame(data)"
   ]
  },
  {
   "cell_type": "code",
   "execution_count": 53,
   "id": "321d78d0-725f-4617-9085-92b0615e317e",
   "metadata": {},
   "outputs": [
    {
     "data": {
      "text/plain": [
       "False"
      ]
     },
     "execution_count": 53,
     "metadata": {},
     "output_type": "execute_result"
    }
   ],
   "source": [
    "has_artist_bad(\"charly\", df_pd)"
   ]
  },
  {
   "cell_type": "code",
   "execution_count": 54,
   "id": "e420e849-6d46-445b-8b4f-346f35650b69",
   "metadata": {},
   "outputs": [
    {
     "data": {
      "text/plain": [
       "True"
      ]
     },
     "execution_count": 54,
     "metadata": {},
     "output_type": "execute_result"
    }
   ],
   "source": [
    "has_artist_bad(\"charly\", df_pl)"
   ]
  },
  {
   "cell_type": "markdown",
   "id": "321ad32a-f60c-42f2-a9f6-df0bdb482ade",
   "metadata": {},
   "source": [
    "- Ajá, acá vemos que se comportan diferentes, resulta que el operador in en Pandas busca en los índices de la serie en vez de su contenido, por eso retorna falso. Vamos a arreglarlo:"
   ]
  },
  {
   "cell_type": "code",
   "execution_count": 55,
   "id": "ece8ecc8-8a4a-4bfe-86a2-afe0bbae47c5",
   "metadata": {},
   "outputs": [],
   "source": [
    "def has_artist_fixed(artist, df):\n",
    "    # para pandas\n",
    "    if isinstance(df, pd.DataFrame):\n",
    "        return artist in df[\"artist\"].values\n",
    "    # para polars\n",
    "    if isinstance(df, (pl.DataFrame, pl.LazyFrame)):\n",
    "        return artist in df[\"artist\"]"
   ]
  },
  {
   "cell_type": "code",
   "execution_count": 56,
   "id": "fbd66851-b405-4712-b925-ff7005e26c8b",
   "metadata": {},
   "outputs": [
    {
     "data": {
      "text/plain": [
       "True"
      ]
     },
     "execution_count": 56,
     "metadata": {},
     "output_type": "execute_result"
    }
   ],
   "source": [
    "has_artist_fixed(\"charly\", df_pd)"
   ]
  },
  {
   "cell_type": "code",
   "execution_count": 57,
   "id": "0a056992-5196-4694-8bce-8213f44f0d46",
   "metadata": {},
   "outputs": [
    {
     "data": {
      "text/plain": [
       "True"
      ]
     },
     "execution_count": 57,
     "metadata": {},
     "output_type": "execute_result"
    }
   ],
   "source": [
    "has_artist_fixed(\"charly\", df_pl)"
   ]
  },
  {
   "cell_type": "markdown",
   "id": "22db7b91-e3d7-4eb2-852a-08732349504f",
   "metadata": {},
   "source": [
    "Es absolutamente indeseable ir modificando el código dependiendo del dataframe en cuestión, hagamos nuestras funciones agnósticas al tipo de dataframe. Es aquí donde **Nawhals** viene a asistirnos.  "
   ]
  },
  {
   "cell_type": "code",
   "execution_count": 58,
   "id": "46f2c9cf-6d15-4741-80db-630119c8c3f7",
   "metadata": {},
   "outputs": [],
   "source": [
    "def has_artist(artist, df_any):\n",
    "    # dataframe-agnostic\n",
    "    df = nw.from_native(df_any)\n",
    "    return artist in df[\"artist\"]"
   ]
  },
  {
   "cell_type": "code",
   "execution_count": 59,
   "id": "90715422-8c92-435a-bb83-8c1a0f51bebb",
   "metadata": {},
   "outputs": [
    {
     "data": {
      "text/plain": [
       "True"
      ]
     },
     "execution_count": 59,
     "metadata": {},
     "output_type": "execute_result"
    }
   ],
   "source": [
    "has_artist(\"charly\", df_pd)"
   ]
  },
  {
   "cell_type": "code",
   "execution_count": 60,
   "id": "7627b535-ed44-4093-bfd3-f07522aeff4d",
   "metadata": {},
   "outputs": [
    {
     "data": {
      "text/plain": [
       "True"
      ]
     },
     "execution_count": 60,
     "metadata": {},
     "output_type": "execute_result"
    }
   ],
   "source": [
    "has_artist(\"charly\", df_pl)"
   ]
  },
  {
   "cell_type": "markdown",
   "id": "9fa7d762-3d09-4ef4-ba91-69277acea3f8",
   "metadata": {},
   "source": [
    "Hasta acá todo muy lindo pero hagamos una función que me recibe un dataframe, lo procesa y retorna modificado en el formato que el usuario de la función lo envió.\n",
    "- Recibimos el dataframe y retornemos otro con la cantidad de canciones por artista"
   ]
  },
  {
   "cell_type": "code",
   "execution_count": 66,
   "id": "c6a6e5ad-d1f0-4730-bf8b-16f6281901ea",
   "metadata": {},
   "outputs": [],
   "source": [
    "def songs_by_artist(df_any):\n",
    "    df = nw.from_native(df_any)\n",
    "    result = df.group_by('artist').agg(nw.len())\n",
    "    return nw.to_native(result)"
   ]
  },
  {
   "cell_type": "code",
   "execution_count": 68,
   "id": "406fd75b-e40e-4da1-a50a-7a8e2abd654c",
   "metadata": {},
   "outputs": [],
   "source": [
    "res_pd = songs_by_artist(df_pd)\n",
    "res_pl = songs_by_artist(df_pl)"
   ]
  },
  {
   "cell_type": "code",
   "execution_count": 70,
   "id": "6a20eff5-56a1-4420-92cd-ea7560a74b91",
   "metadata": {},
   "outputs": [
    {
     "data": {
      "text/plain": [
       "pandas.core.frame.DataFrame"
      ]
     },
     "execution_count": 70,
     "metadata": {},
     "output_type": "execute_result"
    }
   ],
   "source": [
    "type(res_pd)"
   ]
  },
  {
   "cell_type": "code",
   "execution_count": 71,
   "id": "233803f2-36d1-458e-89a3-e7595155d856",
   "metadata": {},
   "outputs": [
    {
     "data": {
      "text/html": [
       "<div>\n",
       "<style scoped>\n",
       "    .dataframe tbody tr th:only-of-type {\n",
       "        vertical-align: middle;\n",
       "    }\n",
       "\n",
       "    .dataframe tbody tr th {\n",
       "        vertical-align: top;\n",
       "    }\n",
       "\n",
       "    .dataframe thead th {\n",
       "        text-align: right;\n",
       "    }\n",
       "</style>\n",
       "<table border=\"1\" class=\"dataframe\">\n",
       "  <thead>\n",
       "    <tr style=\"text-align: right;\">\n",
       "      <th></th>\n",
       "      <th>artist</th>\n",
       "      <th>len</th>\n",
       "    </tr>\n",
       "  </thead>\n",
       "  <tbody>\n",
       "    <tr>\n",
       "      <th>0</th>\n",
       "      <td>charly</td>\n",
       "      <td>1</td>\n",
       "    </tr>\n",
       "    <tr>\n",
       "      <th>1</th>\n",
       "      <td>divididos</td>\n",
       "      <td>2</td>\n",
       "    </tr>\n",
       "    <tr>\n",
       "      <th>2</th>\n",
       "      <td>sumo</td>\n",
       "      <td>1</td>\n",
       "    </tr>\n",
       "  </tbody>\n",
       "</table>\n",
       "</div>"
      ],
      "text/plain": [
       "      artist  len\n",
       "0     charly    1\n",
       "1  divididos    2\n",
       "2       sumo    1"
      ]
     },
     "execution_count": 71,
     "metadata": {},
     "output_type": "execute_result"
    }
   ],
   "source": [
    "res_pd"
   ]
  },
  {
   "cell_type": "code",
   "execution_count": 72,
   "id": "1f24615e-0f4b-48e9-90c0-53316e1f96ee",
   "metadata": {},
   "outputs": [
    {
     "data": {
      "text/plain": [
       "polars.dataframe.frame.DataFrame"
      ]
     },
     "execution_count": 72,
     "metadata": {},
     "output_type": "execute_result"
    }
   ],
   "source": [
    "type(res_pl)"
   ]
  },
  {
   "cell_type": "code",
   "execution_count": 73,
   "id": "9ea349a9-f84f-48aa-9579-df7ceebddebd",
   "metadata": {},
   "outputs": [
    {
     "data": {
      "text/html": [
       "<div><style>\n",
       ".dataframe > thead > tr,\n",
       ".dataframe > tbody > tr {\n",
       "  text-align: right;\n",
       "  white-space: pre-wrap;\n",
       "}\n",
       "</style>\n",
       "<small>shape: (3, 2)</small><table border=\"1\" class=\"dataframe\"><thead><tr><th>artist</th><th>len</th></tr><tr><td>str</td><td>u32</td></tr></thead><tbody><tr><td>&quot;charly&quot;</td><td>1</td></tr><tr><td>&quot;sumo&quot;</td><td>1</td></tr><tr><td>&quot;divididos&quot;</td><td>2</td></tr></tbody></table></div>"
      ],
      "text/plain": [
       "shape: (3, 2)\n",
       "┌───────────┬─────┐\n",
       "│ artist    ┆ len │\n",
       "│ ---       ┆ --- │\n",
       "│ str       ┆ u32 │\n",
       "╞═══════════╪═════╡\n",
       "│ charly    ┆ 1   │\n",
       "│ sumo      ┆ 1   │\n",
       "│ divididos ┆ 2   │\n",
       "└───────────┴─────┘"
      ]
     },
     "execution_count": 73,
     "metadata": {},
     "output_type": "execute_result"
    }
   ],
   "source": [
    "res_pl"
   ]
  },
  {
   "cell_type": "markdown",
   "id": "cd512368-361f-4ed0-8a06-0affbe78ce2d",
   "metadata": {},
   "source": [
    "### Tras bambalinas\n",
    "Narwhals usa un subset de la API de Polars, así que no hay que aprender nada (siempre y cuando ya sepas Polars). Una referencia de lo [soportado acá](https://narwhals-dev.github.io/narwhals/api-reference/). Si bien soporta múltiples dataframes, tiene un coverage del 100% para pandas y polars (testeado diariamente!).\n",
    "\n",
    "Narwhals tiene una sobrecarga despreciable ya que no hace conversiones entre diferentes tipos de dataframes sino que convierte la sintaxis, tampoco tiene dependencias, usa la tecnología del dataframe que pasa el usuario. [No va a acelerar ni tampoco ralentizar tu proceso](https://narwhals-dev.github.io/narwhals/overhead/) solamente lo va a hacer transparente a diferentes tecnologías de dataframes.\n",
    "\n",
    "Detrás de Narwhals están el/los [core-developers de Pandas y Polars](https://uk.linkedin.com/in/marcogorelli). Algunos hitos:\n",
    "- Elegida como una de las [top-10 libs del 2024](https://tryolabs.com/blog/top-python-libraries-2024#top-10---aimldata)\n",
    "- Plotly la incluyó como una dependencia\n",
    "- Sklearn-lego la incorporó para dar soporte a múltiples dataframes"
   ]
  }
 ],
 "metadata": {
  "kernelspec": {
   "display_name": "DataScience",
   "language": "python",
   "name": "datsci"
  },
  "language_info": {
   "codemirror_mode": {
    "name": "ipython",
    "version": 3
   },
   "file_extension": ".py",
   "mimetype": "text/x-python",
   "name": "python",
   "nbconvert_exporter": "python",
   "pygments_lexer": "ipython3",
   "version": "3.13.0"
  }
 },
 "nbformat": 4,
 "nbformat_minor": 5
}
