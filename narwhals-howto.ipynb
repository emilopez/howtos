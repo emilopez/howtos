{
 "cells": [
  {
   "cell_type": "markdown",
   "id": "2fd03d76-66c5-4dd6-a462-be5feaa32916",
   "metadata": {},
   "source": [
    "# Narwhals howto\n",
    "\n",
    "## Motivación\n",
    "- No queremos tener funciones o libs que estén atadas al tipo de dataframe que usamos, no vamos a replicarla y tener una para polars, otra para padas, modin, cuDF, etc.\n",
    "- Tampoco pretendemos ir detras de cada nueva lib y andar haciendo migraciones masivas de nuestro código\n",
    "- Ni queremos obligar a que usen un determinado dataframe, si te sentís bien con pandas, seguí usándolo, yo no te voy a molestar\n",
    "\n",
    "**¿Qué es?**\n",
    "Es una capa de abstracción que agregamos a nuestras funciones y nos olvidamos del problema. Veamos un ejemplo concreto para una función que da soporte para dataframe pandas y polars:"
   ]
  },
  {
   "cell_type": "code",
   "execution_count": 47,
   "id": "cae111b0-9499-4e87-8cc5-a35cd941095f",
   "metadata": {},
   "outputs": [],
   "source": [
    "import polars as pl\n",
    "import pandas as pd\n",
    "import narwhals as nw"
   ]
  },
  {
   "cell_type": "code",
   "execution_count": 48,
   "id": "0d44fee4-e90b-452c-9b2f-7557dd714885",
   "metadata": {},
   "outputs": [
    {
     "name": "stdout",
     "output_type": "stream",
     "text": [
      "Polars: v1.10.0 / Pandas: v2.2.3 / Narwhals: v1.18.3\n"
     ]
    }
   ],
   "source": [
    "print(f\"Polars: v{pl.__version__} / Pandas: v{pd.__version__} / Narwhals: v{nw.__version__}\")"
   ]
  },
  {
   "cell_type": "code",
   "execution_count": 40,
   "id": "4fb865e0-0983-4eaa-9786-82753c7d1fd2",
   "metadata": {},
   "outputs": [],
   "source": [
    "def has_artist_bad(artist, df):\n",
    "    # para pandas\n",
    "    if isinstance(df, pd.DataFrame):\n",
    "        return artist in df[\"artist\"]\n",
    "    # para polars\n",
    "    if isinstance(df, (pl.DataFrame, pl.LazyFrame)):\n",
    "        return artist in df[\"artist\"]"
   ]
  },
  {
   "cell_type": "code",
   "execution_count": 43,
   "id": "0379718d-20aa-423a-a965-b3f72b28cf99",
   "metadata": {},
   "outputs": [],
   "source": [
    "data = {\"artist\":[\"charly\", \"divididos\", \"sumo\", \"divididos\"],\n",
    "        \"cd\":[\"clics modernos\", \"amapola del 66\", \"Llegando los monos\", \"amapola del 66\"], \n",
    "        \"tema\":[\"Ojos de video tape\", \"La flor azul\", \"Estallando desde el oceano\", \"hombres en U\"]}\n",
    "df_pd = pd.DataFrame(data)\n",
    "df_pl = pl.DataFrame(data)"
   ]
  },
  {
   "cell_type": "code",
   "execution_count": 44,
   "id": "321d78d0-725f-4617-9085-92b0615e317e",
   "metadata": {},
   "outputs": [
    {
     "data": {
      "text/plain": [
       "False"
      ]
     },
     "execution_count": 44,
     "metadata": {},
     "output_type": "execute_result"
    }
   ],
   "source": [
    "has_artist_bad(\"charly\", df_pd)"
   ]
  },
  {
   "cell_type": "code",
   "execution_count": 45,
   "id": "e420e849-6d46-445b-8b4f-346f35650b69",
   "metadata": {},
   "outputs": [
    {
     "data": {
      "text/plain": [
       "True"
      ]
     },
     "execution_count": 45,
     "metadata": {},
     "output_type": "execute_result"
    }
   ],
   "source": [
    "has_artist_bad(\"charly\", df_pl)"
   ]
  },
  {
   "cell_type": "markdown",
   "id": "321ad32a-f60c-42f2-a9f6-df0bdb482ade",
   "metadata": {},
   "source": [
    "- Ajá, acá vemos que se comportan diferentes, resulta que el operador in en Pandas busca en los índices de la serie en vez de su contenido, por eso retorna falso. Vamos a arreglarlo:"
   ]
  },
  {
   "cell_type": "code",
   "execution_count": 46,
   "id": "ece8ecc8-8a4a-4bfe-86a2-afe0bbae47c5",
   "metadata": {},
   "outputs": [],
   "source": [
    "def has_artist_fixed(artist, df):\n",
    "    # para pandas\n",
    "    if isinstance(df, pd.DataFrame):\n",
    "        return artist in df[\"artist\"].values\n",
    "    # para polars\n",
    "    if isinstance(df, (pl.DataFrame, pl.LazyFrame)):\n",
    "        return artist in df[\"artist\"]"
   ]
  },
  {
   "cell_type": "code",
   "execution_count": 30,
   "id": "fbd66851-b405-4712-b925-ff7005e26c8b",
   "metadata": {},
   "outputs": [
    {
     "data": {
      "text/plain": [
       "True"
      ]
     },
     "execution_count": 30,
     "metadata": {},
     "output_type": "execute_result"
    }
   ],
   "source": [
    "has_artist_fixed(\"charly\", df_pd)"
   ]
  },
  {
   "cell_type": "code",
   "execution_count": 31,
   "id": "0a056992-5196-4694-8bce-8213f44f0d46",
   "metadata": {},
   "outputs": [
    {
     "data": {
      "text/plain": [
       "True"
      ]
     },
     "execution_count": 31,
     "metadata": {},
     "output_type": "execute_result"
    }
   ],
   "source": [
    "has_artist_fixed(\"charly\", df_pl)"
   ]
  },
  {
   "cell_type": "markdown",
   "id": "22db7b91-e3d7-4eb2-852a-08732349504f",
   "metadata": {},
   "source": [
    "Es absolutamente indeseable ir modificando el código dependiendo del dataframe en cuestión, hagamos nuestras funciones agnósticas al tipo de dataframe. Es aquí donde **Nawhals** viene a asistirnos.  "
   ]
  },
  {
   "cell_type": "code",
   "execution_count": 49,
   "id": "46f2c9cf-6d15-4741-80db-630119c8c3f7",
   "metadata": {},
   "outputs": [],
   "source": [
    "def has_artist(artist, df_any):\n",
    "    # dataframe-agnostic\n",
    "    df = nw.from_native(df_any)\n",
    "    return artist in df[\"artist\"]"
   ]
  },
  {
   "cell_type": "code",
   "execution_count": 50,
   "id": "90715422-8c92-435a-bb83-8c1a0f51bebb",
   "metadata": {},
   "outputs": [
    {
     "data": {
      "text/plain": [
       "True"
      ]
     },
     "execution_count": 50,
     "metadata": {},
     "output_type": "execute_result"
    }
   ],
   "source": [
    "has_artist(\"charly\", df_pd)"
   ]
  },
  {
   "cell_type": "code",
   "execution_count": 51,
   "id": "7627b535-ed44-4093-bfd3-f07522aeff4d",
   "metadata": {},
   "outputs": [
    {
     "data": {
      "text/plain": [
       "True"
      ]
     },
     "execution_count": 51,
     "metadata": {},
     "output_type": "execute_result"
    }
   ],
   "source": [
    "has_artist(\"charly\", df_pl)"
   ]
  },
  {
   "cell_type": "code",
   "execution_count": null,
   "id": "5339534f-5930-4bd8-b4e5-8fba172b554e",
   "metadata": {},
   "outputs": [],
   "source": []
  }
 ],
 "metadata": {
  "kernelspec": {
   "display_name": "DataScience",
   "language": "python",
   "name": "datsci"
  },
  "language_info": {
   "codemirror_mode": {
    "name": "ipython",
    "version": 3
   },
   "file_extension": ".py",
   "mimetype": "text/x-python",
   "name": "python",
   "nbconvert_exporter": "python",
   "pygments_lexer": "ipython3",
   "version": "3.13.0"
  }
 },
 "nbformat": 4,
 "nbformat_minor": 5
}
